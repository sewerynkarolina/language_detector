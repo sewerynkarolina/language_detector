{
 "cells": [
  {
   "cell_type": "code",
   "execution_count": 1,
   "metadata": {},
   "outputs": [],
   "source": [
    "import numpy as np\n",
    "from sklearn.decomposition import PCA\n",
    "from sklearn.decomposition import IncrementalPCA\n",
    "import pandas as pd\n",
    "import matplotlib.pyplot as plt\n",
    "from sklearn import preprocessing\n",
    "import seaborn as sns\n",
    "\n",
    "#Zbiór wygenerowany jak w pliku create_matrix_from_files, ale zawierający wszystkie kolumny\n",
    "df = pd.read_csv(\"probna3.csv\")"
   ]
  },
  {
   "cell_type": "markdown",
   "metadata": {},
   "source": [
    "## IPCA (Incremental PCA):\n",
    "Zamiennik PCA przy dużych zbiorach - robi mądrzej z pamięcią. Z tego co widzę to dzieli na warstwy (batch_size). <br>\n",
    "Przy małych zbiorach pewnie nie będzie różnicy, ale przy większym wyniki mogą być już różne."
   ]
  },
  {
   "cell_type": "code",
   "execution_count": 2,
   "metadata": {
    "scrolled": true
   },
   "outputs": [],
   "source": [
    "def ipca_fun(data, n_components, batch_size):\n",
    "\n",
    "    #Usuwam nazwy plikow i kraje:\n",
    "    df_new=df.iloc[:,1:df.shape[1]-1]\n",
    "    \n",
    "    ipca = IncrementalPCA(n_components=2, batch_size=12)\n",
    "    #n_components - do ilu wymiarów redukujemy (głupio, bo 2 to głupio, ale chciałam narysować)\n",
    "    #batch_size - chyba ile obserwacji na raz w pamięci mieli jednocześnie? \n",
    "    ipca.fit(df_new)\n",
    "    \n",
    "    return(pd.DataFrame(ipca.transform(df_new)))"
   ]
  },
  {
   "cell_type": "code",
   "execution_count": 3,
   "metadata": {},
   "outputs": [
    {
     "data": {
      "text/html": [
       "<div>\n",
       "<style scoped>\n",
       "    .dataframe tbody tr th:only-of-type {\n",
       "        vertical-align: middle;\n",
       "    }\n",
       "\n",
       "    .dataframe tbody tr th {\n",
       "        vertical-align: top;\n",
       "    }\n",
       "\n",
       "    .dataframe thead th {\n",
       "        text-align: right;\n",
       "    }\n",
       "</style>\n",
       "<table border=\"1\" class=\"dataframe\">\n",
       "  <thead>\n",
       "    <tr style=\"text-align: right;\">\n",
       "      <th></th>\n",
       "      <th>0</th>\n",
       "      <th>1</th>\n",
       "    </tr>\n",
       "  </thead>\n",
       "  <tbody>\n",
       "    <tr>\n",
       "      <th>0</th>\n",
       "      <td>-484.427470</td>\n",
       "      <td>84.060617</td>\n",
       "    </tr>\n",
       "    <tr>\n",
       "      <th>1</th>\n",
       "      <td>289.915059</td>\n",
       "      <td>-294.313305</td>\n",
       "    </tr>\n",
       "    <tr>\n",
       "      <th>2</th>\n",
       "      <td>-379.423460</td>\n",
       "      <td>55.537627</td>\n",
       "    </tr>\n",
       "    <tr>\n",
       "      <th>3</th>\n",
       "      <td>893.348496</td>\n",
       "      <td>367.193573</td>\n",
       "    </tr>\n",
       "    <tr>\n",
       "      <th>4</th>\n",
       "      <td>742.115733</td>\n",
       "      <td>110.192351</td>\n",
       "    </tr>\n",
       "    <tr>\n",
       "      <th>5</th>\n",
       "      <td>377.847713</td>\n",
       "      <td>-336.717287</td>\n",
       "    </tr>\n",
       "    <tr>\n",
       "      <th>6</th>\n",
       "      <td>-154.859690</td>\n",
       "      <td>116.156882</td>\n",
       "    </tr>\n",
       "    <tr>\n",
       "      <th>7</th>\n",
       "      <td>-121.355554</td>\n",
       "      <td>-84.628392</td>\n",
       "    </tr>\n",
       "    <tr>\n",
       "      <th>8</th>\n",
       "      <td>-602.516817</td>\n",
       "      <td>100.877866</td>\n",
       "    </tr>\n",
       "    <tr>\n",
       "      <th>9</th>\n",
       "      <td>-463.382337</td>\n",
       "      <td>46.116848</td>\n",
       "    </tr>\n",
       "    <tr>\n",
       "      <th>10</th>\n",
       "      <td>-334.913722</td>\n",
       "      <td>11.358619</td>\n",
       "    </tr>\n",
       "    <tr>\n",
       "      <th>11</th>\n",
       "      <td>237.652048</td>\n",
       "      <td>-175.835399</td>\n",
       "    </tr>\n",
       "  </tbody>\n",
       "</table>\n",
       "</div>"
      ],
      "text/plain": [
       "             0           1\n",
       "0  -484.427470   84.060617\n",
       "1   289.915059 -294.313305\n",
       "2  -379.423460   55.537627\n",
       "3   893.348496  367.193573\n",
       "4   742.115733  110.192351\n",
       "5   377.847713 -336.717287\n",
       "6  -154.859690  116.156882\n",
       "7  -121.355554  -84.628392\n",
       "8  -602.516817  100.877866\n",
       "9  -463.382337   46.116848\n",
       "10 -334.913722   11.358619\n",
       "11  237.652048 -175.835399"
      ]
     },
     "execution_count": 3,
     "metadata": {},
     "output_type": "execute_result"
    }
   ],
   "source": [
    "new_data = ipca_fun(df,2,6)\n",
    "new_data"
   ]
  },
  {
   "cell_type": "code",
   "execution_count": 4,
   "metadata": {
    "scrolled": false
   },
   "outputs": [
    {
     "data": {
      "image/png": "[encoded data removed]",
      "text/plain": [
       "<Figure size 432x288 with 1 Axes>"
      ]
     },
     "metadata": {
      "needs_background": "light"
     },
     "output_type": "display_data"
    }
   ],
   "source": [
    "def ipca_plot2(df, batch_size):\n",
    "    '''\n",
    "    Wykres w przypadku redukcji do dwóch wymiarów\n",
    "    '''\n",
    "    new_data = ipca_fun(df,2,batch_size)\n",
    "    \n",
    "    #Zmieniam kody państw na liczby(kolory)\n",
    "    le = preprocessing.LabelEncoder()\n",
    "    le.fit(df[\"@C#ountry\"])\n",
    "    \n",
    "    colors =  le.transform(df[\"@C#ountry\"])\n",
    "\n",
    "    scatt = sns.scatterplot(x=new_data[0], y=new_data[1], hue=colors, legend =\"full\")\n",
    "    plt.legend(labels = df[\"@C#ountry\"].unique())\n",
    "    \n",
    "ipca_plot2(df,6)"
   ]
  }
 ],
 "metadata": {
  "kernelspec": {
   "display_name": "Python 3",
   "language": "python",
   "name": "python3"
  },
  "language_info": {
   "codemirror_mode": {
    "name": "ipython",
    "version": 3
   },
   "file_extension": ".py",
   "mimetype": "text/x-python",
   "name": "python",
   "nbconvert_exporter": "python",
   "pygments_lexer": "ipython3",
   "version": "3.6.7"
  }
 },
 "nbformat": 4,
 "nbformat_minor": 2
}
