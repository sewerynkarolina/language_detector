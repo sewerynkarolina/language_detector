{
 "cells": [
  {
   "cell_type": "code",
   "execution_count": 13,
   "metadata": {},
   "outputs": [],
   "source": [
    "import pandas as pd\n",
    "import os\n",
    "#from pathlib import Path\n",
    "import numpy as np\n",
    "import shutil\n",
    "import glob"
   ]
  },
  {
   "cell_type": "code",
   "execution_count": 5,
   "metadata": {},
   "outputs": [],
   "source": [
    "# TUTAJ SAMI UZUPEŁNIAMY:\n",
    "#ścieżka folderu w którym mamy nazwiska ludzi, którzy szukali nam artykułów\n",
    "source_ = '/home/kasia/Pulpit/LD_data/Dane/'\n",
    "#Ścieżka folderu gdzie będziemy mieć foldery z posegregowanymi krajami\n",
    "dest_ = '/home/kasia/Pulpit/new/'"
   ]
  },
  {
   "cell_type": "markdown",
   "metadata": {},
   "source": [
    "#### Ujednolicenie:\n",
    "Americans -> USA <br>\n",
    "Arab -> UnitedArabEmirate (?) <br>\n",
    "Austrians -> Austria<br>\n",
    "Bangladeshi -> Bangladesh<br>\n",
    "British -> UK <br>\n",
    "Czechs -> CzechRepublic<br>\n",
    "Chinese -> China\n",
    "Dane -> Denmark<br>\n",
    "English -> UK<br>\n",
    "French -> France<br>\n",
    "German -> Germany<br>\n",
    "Germans -> Germany<br>\n",
    "Greeks -> Greece<br>\n",
    "Hungarians -> Hungary <br>\n",
    "Italians -> Italy <br>\n",
    "Japanese -> Japan<br>\n",
    "Lithuanians -> Lithuania<br>\n",
    "Malays -> Malaysia<br>\n",
    "Poles -> Poland <br>\n",
    "Polish -> Poland <br>\n",
    "Portuguese -> Portugal<br>\n",
    "Portugiese -> Portugal <br>\n",
    "Russian -> Russia<br>\n",
    "Russians -> Russia<br>\n",
    "Slovakians -> Slovakia<br>\n",
    "Spanish -> Spain<br>\n",
    "Turkish -> Turkey<br>\n",
    "Turks -> Turkey<br>\n",
    "Vietnamese -> Vietnam<br>"
   ]
  },
  {
   "cell_type": "code",
   "execution_count": 6,
   "metadata": {},
   "outputs": [],
   "source": [
    "#Tworzę foldery w dest_:\n",
    "folder_list = ['Austria', 'Bagladesh', 'Bahrain', 'Bangladesh', 'China',\n",
    "       'CzechRepublic', 'France', 'Georgia', 'Germany', 'Greece',\n",
    "       'Hungary', 'Italy', 'Japan', 'Kuwait', 'Lithuania', 'Malaysia',\n",
    "       'Oman', 'Poland', 'Portugal', 'Qatar', 'Russia', 'SaudiArabia',\n",
    "       'Slovakia', 'Spain', 'Turkey', 'UK', 'USA',\n",
    "       'UnitedArabEmirates', 'Vietnam']\n",
    "for i in folder_list:\n",
    "    if not os.path.exists(dest_+i):\n",
    "        os.makedirs(dest_+i)"
   ]
  },
  {
   "cell_type": "code",
   "execution_count": 7,
   "metadata": {},
   "outputs": [],
   "source": [
    "#Przenoszę pliki:\n",
    "source = ['Manjunath/Americans','niedzialek/American',\n",
    "'felski/American','klosowski/Arab' ,\n",
    "'Manjunath/Austrians', 'klosowski/Bangladeshi','felski/British',\n",
    "'Manjunath/Czechs' ,'shah/Chinese',\n",
    "'Manjunath/Chinese','niedzialek/English',\n",
    "'ciurzycki/French' ,'dziwulski/French',\n",
    "'Manjunath/French','niedzialek/German' ,\n",
    "'Manjunath/Germans' ,'Manjunath/Greeks' ,\n",
    "'Manjunath/Hungarians','konowrocki/Italian',\n",
    "'Manjunath/Italians','ciurzycki/Japanese' ,\n",
    "'Manjunath/Lithuanians' ,'slon/Malays','Manjunath/Poles' ,\n",
    "'ciurzycki/Polish' ,'dziwulski/Portuguese',\n",
    "'Manjunath/Portugiese','ciurzycki/Russian','felski/Russian',\n",
    "'Manjunath/Russians','Manjunath/Slovakians',\n",
    "'dziwulski/Spanish','Manjunath/Spanish',\n",
    "'klosowski/Turkish','slon/Turks','klosowski/Vietnamese','suzonowicz/Chinese',\n",
    "'dziwulski/Bangladeshi','zalewska/China','zalewska/Hungary','krynski/Vietnam','krynski/Greece',\n",
    "'krynski/Poland','krynski/Malaysia',\n",
    "'arushanyan/Georgia','arushanyan/UK',\n",
    "'arushanyan/Japan','arushanyan/Bangladesh',\n",
    "'koziol/USA','koziol/Japan',\n",
    "'sznajder/Russia','sznajder/China',\n",
    "'suzonowicz/Kuwait','suzonowicz/United Arab Emirates',\n",
    "'suzonowicz/Oman','suzonowicz/Saudi Arabia',\n",
    "'suzonowicz/Bahrain','suzonowicz/Qatar',\n",
    "'shah/USA','shah/Russia', 'shah/Austria',\n",
    "'shah/UK','shah/Malaysia','shah/France',\n",
    "'sogbesan/USA','sogbesan/Poland','sogbesan/Lithuania',\n",
    "'sogbesan/Germany','sogbesan/UK','dokurno/Turkey','dokurno/CzechRepublic',\n",
    "'wisniewski/Kuwait','wisniewski/Vietnam','wisniewski/Spain']\n",
    "\n",
    "dest = ['USA','USA','USA','UnitedArabEmirates','Austria','Bangladesh',\n",
    "'UK','CzechRepublic','China','China','UK','France','France','France','Germany','Germany',\n",
    "'Greece','Hungary', 'Italy','Italy','Japan','Lithuania','Malaysia','Poland',\n",
    "'Poland','Portugal','Portugal','Russia','Russia','Russia', 'Slovakia','Spain','Spain','Turkey',\n",
    "'Turkey','Vietnam','China','Bangladesh','China','Hungary','Vietnam','Greece','Poland','Malaysia',\n",
    "'Georgia','UK','Japan','Bagladesh','USA','Japan',\n",
    "'Russia','China', 'Kuwait','UnitedArabEmirates','Oman','SaudiArabia',\n",
    "'Bahrain','Qatar','USA','Russia', 'Austria','UK','Malaysia',\n",
    "'France','USA','Poland','Lithuania','Germany','UK','Turkey',\n",
    "'CzechRepublic','Kuwait','Vietnam','Spain']\n"
   ]
  },
  {
   "cell_type": "code",
   "execution_count": 7,
   "metadata": {},
   "outputs": [],
   "source": [
    "for it in list(range(len(source))):\n",
    "    for j in os.listdir(source_+source[it]):\n",
    "        shutil.move(source_+source[it]+'/'+j, dest_+dest[it]+\"/\"+j)"
   ]
  },
  {
   "cell_type": "markdown",
   "metadata": {},
   "source": [
    "#### CSV-KI"
   ]
  },
  {
   "cell_type": "code",
   "execution_count": 33,
   "metadata": {},
   "outputs": [],
   "source": [
    "#Tworzę pusty folder:\n",
    "#Tworzę pustą csv-kę, do której będę zapisywać wszystkie dictionary\n",
    "with open(dest_+'dictionary.csv', 'w'):\n",
    "    pass"
   ]
  },
  {
   "cell_type": "code",
   "execution_count": 10,
   "metadata": {},
   "outputs": [],
   "source": [
    "#Usuwam jedną złą csvkę:\n",
    "os.remove(source_+'Manjunath/Slovakians/dictionary.csv')"
   ]
  },
  {
   "cell_type": "code",
   "execution_count": 17,
   "metadata": {},
   "outputs": [],
   "source": [
    "#Nie ogarniam jak usunąć ciapki, bo jest jakiś problem z kodowaniem, \n",
    "#więc na gita wrzuciła już całkowicie przetworzoną csvkę"
   ]
  },
  {
   "cell_type": "code",
   "execution_count": 18,
   "metadata": {},
   "outputs": [],
   "source": [
    "#Tutaj usunęłam ciapki z dwóch csvek"
   ]
  },
  {
   "cell_type": "code",
   "execution_count": 8,
   "metadata": {},
   "outputs": [],
   "source": [
    "list_of_dict = []\n",
    "for i in [x[0] for x in os.walk(source_)]:\n",
    "    os.chdir(i)\n",
    "    result = glob.glob('*.{}'.format('csv'))\n",
    "    if result != []:\n",
    "        list_of_dict.append(i+\"/\"+result[0])    "
   ]
  },
  {
   "cell_type": "code",
   "execution_count": 9,
   "metadata": {},
   "outputs": [
    {
     "data": {
      "text/plain": [
       "['/home/kasia/Pulpit/LD_data/Dane/zalewska/dictionary.csv',\n",
       " '/home/kasia/Pulpit/LD_data/Dane/krynski/dictionary.csv',\n",
       " '/home/kasia/Pulpit/LD_data/Dane/ciurzycki/dictionary.csv',\n",
       " '/home/kasia/Pulpit/LD_data/Dane/slon/dictionary.csv',\n",
       " '/home/kasia/Pulpit/LD_data/Dane/arushanyan/dictionary.csv',\n",
       " '/home/kasia/Pulpit/LD_data/Dane/koziol/dictionary.csv',\n",
       " '/home/kasia/Pulpit/LD_data/Dane/sznajder/dictionary.csv',\n",
       " '/home/kasia/Pulpit/LD_data/Dane/konowrocki/dictionary.csv',\n",
       " '/home/kasia/Pulpit/LD_data/Dane/suzonowicz/dictionary.csv',\n",
       " '/home/kasia/Pulpit/LD_data/Dane/shah/dictionary.csv',\n",
       " '/home/kasia/Pulpit/LD_data/Dane/sogbesan/dictionary.csv',\n",
       " '/home/kasia/Pulpit/LD_data/Dane/dokurno/dictionary.csv',\n",
       " '/home/kasia/Pulpit/LD_data/Dane/niedzialek/dictionary.csv',\n",
       " '/home/kasia/Pulpit/LD_data/Dane/dziwulski/dictionary.csv',\n",
       " '/home/kasia/Pulpit/LD_data/Dane/wisniewski/dictionary.csv',\n",
       " '/home/kasia/Pulpit/LD_data/Dane/felski/dictionary.csv',\n",
       " '/home/kasia/Pulpit/LD_data/Dane/klosowski/dictionary.csv',\n",
       " '/home/kasia/Pulpit/LD_data/Dane/Manjunath/dictionary.csv']"
      ]
     },
     "execution_count": 9,
     "metadata": {},
     "output_type": "execute_result"
    }
   ],
   "source": [
    "list_of_dict"
   ]
  },
  {
   "cell_type": "code",
   "execution_count": 10,
   "metadata": {},
   "outputs": [],
   "source": [
    "new_dict=open(dest_+\"dictionary.csv\",\"a\")\n",
    "for num in list_of_dict:\n",
    "    for line in open(num):\n",
    "         new_dict.write(line)    \n",
    "new_dict.close()"
   ]
  },
  {
   "cell_type": "code",
   "execution_count": 35,
   "metadata": {},
   "outputs": [],
   "source": [
    "## I jeszcze muszę zamienić kraje na nazwy folderów"
   ]
  },
  {
   "cell_type": "code",
   "execution_count": 29,
   "metadata": {},
   "outputs": [],
   "source": [
    "findL = ['Americans',\n",
    "'American','Arab' ,\n",
    "'Austrians', 'Bangladeshi','British',\n",
    "'Czechs' ,\n",
    "'Chinese','English',\n",
    "'French' ,'German' ,\n",
    "'Germans' ,'Greeks' ,\n",
    "'Hungarians','Italian',\n",
    "'Italians','Japanese' ,\n",
    "'Lithuanians' ,'Malays','Poles' ,\n",
    "'Polish' ,'Portuguese',\n",
    "'Portugiese','Russian',\n",
    "'Russians','Slovakians',\n",
    "'Spanish',\n",
    "'Turkish','Turks','Vietnamese','Chinese',\n",
    "'Bangladeshi', 'United Arab Emirates','Saudi Arabia','Lthuanians']\n",
    "replaceL = ['USA','USA','UnitedArabEmirates','Austria','Bangladesh',\n",
    "'UK','CzechRepublic','China','UK','France','Germany','Germany',\n",
    "'Greece','Hungary', 'Italy','Italy','Japan','Lithuania','Malaysia','Poland',\n",
    "'Poland','Portugal','Portugal','Russia','Russia', 'Slovakia','Spain','Turkey',\n",
    "'Turkey','Vietnam','China','Bangladesh','UnitedArabEmirates', 'SaudiArabia','Lithuania']"
   ]
  },
  {
   "cell_type": "code",
   "execution_count": 30,
   "metadata": {},
   "outputs": [],
   "source": [
    "df = pd.read_csv(dest_+\"dictionary.csv\", header=None)\n",
    "df[1] = df[1].replace(findL, replaceL)"
   ]
  },
  {
   "cell_type": "code",
   "execution_count": 31,
   "metadata": {},
   "outputs": [],
   "source": [
    "df.to_csv(dest_+\"dictionary.csv\",index=False)"
   ]
  }
 ],
 "metadata": {
  "kernelspec": {
   "display_name": "Python 3",
   "language": "python",
   "name": "python3"
  },
  "language_info": {
   "codemirror_mode": {
    "name": "ipython",
    "version": 3
   },
   "file_extension": ".py",
   "mimetype": "text/x-python",
   "name": "python",
   "nbconvert_exporter": "python",
   "pygments_lexer": "ipython3",
   "version": "3.6.7"
  }
 },
 "nbformat": 4,
 "nbformat_minor": 2
}
