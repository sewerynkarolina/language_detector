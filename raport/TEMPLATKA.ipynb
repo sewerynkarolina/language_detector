{
 "cells": [
  {
   "cell_type": "markdown",
   "metadata": {},
   "source": [
    "# PLIK POMOCNICZY DO RAPORTU\n",
    " <br> \n",
    " <br>\n",
    " Banecki, Lorenc, Piega, Seliga, Seweryn"
   ]
  },
  {
   "cell_type": "code",
   "execution_count": 53,
   "metadata": {},
   "outputs": [],
   "source": [
    "import fun_to_raport as ftr\n",
    "import pandas as pd\n",
    "from joblib import load"
   ]
  },
  {
   "cell_type": "code",
   "execution_count": 48,
   "metadata": {},
   "outputs": [],
   "source": [
    "# IMPORTUJEMY WSZYSTKIE ZBIORY:\n",
    "df1 = pd.read_pickle(\"45gram_small.pkl\")"
   ]
  },
  {
   "cell_type": "markdown",
   "metadata": {},
   "source": [
    "### Lasy losowe <br>\n",
    "1) Zbudowane na wszystkich zmiennych objaśnianych <br>\n",
    "2) Zmiennymi objaśniającymi są pojedyncze wyrazy"
   ]
  },
  {
   "cell_type": "code",
   "execution_count": null,
   "metadata": {},
   "outputs": [],
   "source": []
  },
  {
   "cell_type": "markdown",
   "metadata": {},
   "source": [
    "*UWAGA: Odtąd wszystkimi zmiennymi objaśniającymi będziemy nazywać zmienne, wyczyszczone ze słów charakterystycznych dla krajów*"
   ]
  },
  {
   "cell_type": "markdown",
   "metadata": {},
   "source": [
    "### Sieci neuronowe <br>\n",
    "1) Zbudowane na wszystkich zmiennych objaśnianych <br>\n",
    "2) Zmiennymi objaśniającymi są pojedyncze wyrazy"
   ]
  },
  {
   "cell_type": "code",
   "execution_count": null,
   "metadata": {},
   "outputs": [],
   "source": []
  },
  {
   "cell_type": "markdown",
   "metadata": {},
   "source": [
    "### Lasy losowe <br>\n",
    "1) Zbudowane na wszystkich zmiennych objaśnianych <br>\n",
    "2) Zmiennymi objaśniającymi są pojedyncze wyrazy"
   ]
  },
  {
   "cell_type": "code",
   "execution_count": null,
   "metadata": {},
   "outputs": [],
   "source": []
  },
  {
   "cell_type": "markdown",
   "metadata": {},
   "source": [
    "### Regresja logistyczna <br>\n",
    "1) Zbudowane na wszystkich zmiennych objaśnianych <br>\n",
    "2) Zmiennymi objaśniającymi są pojedyncze wyrazy"
   ]
  },
  {
   "cell_type": "code",
   "execution_count": 49,
   "metadata": {
    "scrolled": false
   },
   "outputs": [
    {
     "name": "stderr",
     "output_type": "stream",
     "text": [
      "/home/kasia/.local/lib/python3.6/site-packages/sklearn/linear_model/logistic.py:469: FutureWarning: Default multi_class will be changed to 'auto' in 0.22. Specify the multi_class option to silence this warning.\n",
      "  \"this warning.\", FutureWarning)\n",
      "/home/kasia/.local/lib/python3.6/site-packages/sklearn/linear_model/sag.py:337: ConvergenceWarning: The max_iter was reached which means the coef_ did not converge\n",
      "  \"the coef_ did not converge\", ConvergenceWarning)\n"
     ]
    },
    {
     "data": {
      "text/html": [
       "<div>\n",
       "<style scoped>\n",
       "    .dataframe tbody tr th:only-of-type {\n",
       "        vertical-align: middle;\n",
       "    }\n",
       "\n",
       "    .dataframe tbody tr th {\n",
       "        vertical-align: top;\n",
       "    }\n",
       "\n",
       "    .dataframe thead th {\n",
       "        text-align: right;\n",
       "    }\n",
       "</style>\n",
       "<table border=\"1\" class=\"dataframe\">\n",
       "  <thead>\n",
       "    <tr style=\"text-align: right;\">\n",
       "      <th></th>\n",
       "      <th>China</th>\n",
       "      <th>France</th>\n",
       "      <th>Germany</th>\n",
       "      <th>Italy</th>\n",
       "      <th>Japan</th>\n",
       "      <th>Poland</th>\n",
       "      <th>Russia</th>\n",
       "      <th>Spain</th>\n",
       "      <th>Turkey</th>\n",
       "      <th>UK</th>\n",
       "      <th>USA</th>\n",
       "      <th>Vietnam</th>\n",
       "    </tr>\n",
       "  </thead>\n",
       "  <tbody>\n",
       "    <tr>\n",
       "      <th>China</th>\n",
       "      <td>206</td>\n",
       "      <td>0</td>\n",
       "      <td>0</td>\n",
       "      <td>0</td>\n",
       "      <td>3</td>\n",
       "      <td>0</td>\n",
       "      <td>0</td>\n",
       "      <td>1</td>\n",
       "      <td>2</td>\n",
       "      <td>0</td>\n",
       "      <td>6</td>\n",
       "      <td>1</td>\n",
       "    </tr>\n",
       "    <tr>\n",
       "      <th>France</th>\n",
       "      <td>0</td>\n",
       "      <td>62</td>\n",
       "      <td>2</td>\n",
       "      <td>1</td>\n",
       "      <td>2</td>\n",
       "      <td>0</td>\n",
       "      <td>2</td>\n",
       "      <td>4</td>\n",
       "      <td>1</td>\n",
       "      <td>1</td>\n",
       "      <td>9</td>\n",
       "      <td>1</td>\n",
       "    </tr>\n",
       "    <tr>\n",
       "      <th>Germany</th>\n",
       "      <td>1</td>\n",
       "      <td>2</td>\n",
       "      <td>39</td>\n",
       "      <td>0</td>\n",
       "      <td>1</td>\n",
       "      <td>0</td>\n",
       "      <td>2</td>\n",
       "      <td>0</td>\n",
       "      <td>0</td>\n",
       "      <td>4</td>\n",
       "      <td>14</td>\n",
       "      <td>1</td>\n",
       "    </tr>\n",
       "    <tr>\n",
       "      <th>Italy</th>\n",
       "      <td>0</td>\n",
       "      <td>3</td>\n",
       "      <td>0</td>\n",
       "      <td>44</td>\n",
       "      <td>3</td>\n",
       "      <td>0</td>\n",
       "      <td>2</td>\n",
       "      <td>3</td>\n",
       "      <td>1</td>\n",
       "      <td>1</td>\n",
       "      <td>3</td>\n",
       "      <td>0</td>\n",
       "    </tr>\n",
       "    <tr>\n",
       "      <th>Japan</th>\n",
       "      <td>2</td>\n",
       "      <td>1</td>\n",
       "      <td>0</td>\n",
       "      <td>4</td>\n",
       "      <td>42</td>\n",
       "      <td>4</td>\n",
       "      <td>4</td>\n",
       "      <td>1</td>\n",
       "      <td>3</td>\n",
       "      <td>2</td>\n",
       "      <td>9</td>\n",
       "      <td>0</td>\n",
       "    </tr>\n",
       "    <tr>\n",
       "      <th>Poland</th>\n",
       "      <td>0</td>\n",
       "      <td>0</td>\n",
       "      <td>1</td>\n",
       "      <td>1</td>\n",
       "      <td>5</td>\n",
       "      <td>60</td>\n",
       "      <td>5</td>\n",
       "      <td>2</td>\n",
       "      <td>0</td>\n",
       "      <td>1</td>\n",
       "      <td>4</td>\n",
       "      <td>0</td>\n",
       "    </tr>\n",
       "    <tr>\n",
       "      <th>Russia</th>\n",
       "      <td>2</td>\n",
       "      <td>1</td>\n",
       "      <td>2</td>\n",
       "      <td>1</td>\n",
       "      <td>0</td>\n",
       "      <td>0</td>\n",
       "      <td>103</td>\n",
       "      <td>1</td>\n",
       "      <td>0</td>\n",
       "      <td>3</td>\n",
       "      <td>6</td>\n",
       "      <td>0</td>\n",
       "    </tr>\n",
       "    <tr>\n",
       "      <th>Spain</th>\n",
       "      <td>0</td>\n",
       "      <td>7</td>\n",
       "      <td>1</td>\n",
       "      <td>1</td>\n",
       "      <td>0</td>\n",
       "      <td>0</td>\n",
       "      <td>0</td>\n",
       "      <td>99</td>\n",
       "      <td>0</td>\n",
       "      <td>0</td>\n",
       "      <td>2</td>\n",
       "      <td>0</td>\n",
       "    </tr>\n",
       "    <tr>\n",
       "      <th>Turkey</th>\n",
       "      <td>1</td>\n",
       "      <td>1</td>\n",
       "      <td>1</td>\n",
       "      <td>0</td>\n",
       "      <td>0</td>\n",
       "      <td>2</td>\n",
       "      <td>0</td>\n",
       "      <td>1</td>\n",
       "      <td>69</td>\n",
       "      <td>1</td>\n",
       "      <td>6</td>\n",
       "      <td>2</td>\n",
       "    </tr>\n",
       "    <tr>\n",
       "      <th>UK</th>\n",
       "      <td>1</td>\n",
       "      <td>3</td>\n",
       "      <td>4</td>\n",
       "      <td>0</td>\n",
       "      <td>0</td>\n",
       "      <td>2</td>\n",
       "      <td>1</td>\n",
       "      <td>1</td>\n",
       "      <td>1</td>\n",
       "      <td>83</td>\n",
       "      <td>30</td>\n",
       "      <td>1</td>\n",
       "    </tr>\n",
       "    <tr>\n",
       "      <th>USA</th>\n",
       "      <td>1</td>\n",
       "      <td>0</td>\n",
       "      <td>5</td>\n",
       "      <td>1</td>\n",
       "      <td>1</td>\n",
       "      <td>0</td>\n",
       "      <td>0</td>\n",
       "      <td>0</td>\n",
       "      <td>2</td>\n",
       "      <td>28</td>\n",
       "      <td>152</td>\n",
       "      <td>0</td>\n",
       "    </tr>\n",
       "    <tr>\n",
       "      <th>Vietnam</th>\n",
       "      <td>3</td>\n",
       "      <td>1</td>\n",
       "      <td>2</td>\n",
       "      <td>2</td>\n",
       "      <td>1</td>\n",
       "      <td>0</td>\n",
       "      <td>1</td>\n",
       "      <td>0</td>\n",
       "      <td>5</td>\n",
       "      <td>1</td>\n",
       "      <td>5</td>\n",
       "      <td>52</td>\n",
       "    </tr>\n",
       "  </tbody>\n",
       "</table>\n",
       "</div>"
      ],
      "text/plain": [
       "         China  France  Germany  Italy  Japan  Poland  Russia  Spain  Turkey  \\\n",
       "China      206       0        0      0      3       0       0      1       2   \n",
       "France       0      62        2      1      2       0       2      4       1   \n",
       "Germany      1       2       39      0      1       0       2      0       0   \n",
       "Italy        0       3        0     44      3       0       2      3       1   \n",
       "Japan        2       1        0      4     42       4       4      1       3   \n",
       "Poland       0       0        1      1      5      60       5      2       0   \n",
       "Russia       2       1        2      1      0       0     103      1       0   \n",
       "Spain        0       7        1      1      0       0       0     99       0   \n",
       "Turkey       1       1        1      0      0       2       0      1      69   \n",
       "UK           1       3        4      0      0       2       1      1       1   \n",
       "USA          1       0        5      1      1       0       0      0       2   \n",
       "Vietnam      3       1        2      2      1       0       1      0       5   \n",
       "\n",
       "         UK  USA  Vietnam  \n",
       "China     0    6        1  \n",
       "France    1    9        1  \n",
       "Germany   4   14        1  \n",
       "Italy     1    3        0  \n",
       "Japan     2    9        0  \n",
       "Poland    1    4        0  \n",
       "Russia    3    6        0  \n",
       "Spain     0    2        0  \n",
       "Turkey    1    6        2  \n",
       "UK       83   30        1  \n",
       "USA      28  152        0  \n",
       "Vietnam   1    5       52  "
      ]
     },
     "execution_count": 49,
     "metadata": {},
     "output_type": "execute_result"
    }
   ],
   "source": [
    "df1 = ftr._label_to_country(df1)\n",
    "y_test, y_pred = ftr.log_model(df1, 0.2,'/home/kasia/Pulpit/LD_dit/language_detector/Python/modele/mod2')\n",
    "ftr.confu_matrix_for_categories(df1, y_test, y_pred)"
   ]
  },
  {
   "cell_type": "code",
   "execution_count": 50,
   "metadata": {
    "scrolled": true
   },
   "outputs": [
    {
     "name": "stdout",
     "output_type": "stream",
     "text": [
      "Accuracy w modelu: 0.79\n",
      "F1 score w modelu: 0.77\n"
     ]
    }
   ],
   "source": [
    "ftr.accuracy_and_f1(y_test, y_pred)"
   ]
  },
  {
   "cell_type": "markdown",
   "metadata": {},
   "source": [
    "#### Najwazniejsze zmienne dla przykładowej predykcji"
   ]
  },
  {
   "cell_type": "code",
   "execution_count": 58,
   "metadata": {},
   "outputs": [],
   "source": [
    "mod = load(\"mod2.joblib\")"
   ]
  },
  {
   "cell_type": "code",
   "execution_count": 59,
   "metadata": {},
   "outputs": [
    {
     "data": {
      "text/html": [
       "<div>\n",
       "<style scoped>\n",
       "    .dataframe tbody tr th:only-of-type {\n",
       "        vertical-align: middle;\n",
       "    }\n",
       "\n",
       "    .dataframe tbody tr th {\n",
       "        vertical-align: top;\n",
       "    }\n",
       "\n",
       "    .dataframe thead th {\n",
       "        text-align: right;\n",
       "    }\n",
       "</style>\n",
       "<table border=\"1\" class=\"dataframe\">\n",
       "  <thead>\n",
       "    <tr style=\"text-align: right;\">\n",
       "      <th></th>\n",
       "      <th>value</th>\n",
       "    </tr>\n",
       "  </thead>\n",
       "  <tbody>\n",
       "    <tr>\n",
       "      <th>at the start of</th>\n",
       "      <td>0.216385</td>\n",
       "    </tr>\n",
       "    <tr>\n",
       "      <th>there be number of</th>\n",
       "      <td>0.180309</td>\n",
       "    </tr>\n",
       "    <tr>\n",
       "      <th>the way in which</th>\n",
       "      <td>0.167327</td>\n",
       "    </tr>\n",
       "    <tr>\n",
       "      <th>the aim of the</th>\n",
       "      <td>0.158552</td>\n",
       "    </tr>\n",
       "    <tr>\n",
       "      <th>the reason for this</th>\n",
       "      <td>0.151384</td>\n",
       "    </tr>\n",
       "    <tr>\n",
       "      <th>the aim be to</th>\n",
       "      <td>0.149321</td>\n",
       "    </tr>\n",
       "    <tr>\n",
       "      <th>be dependent on the</th>\n",
       "      <td>0.126278</td>\n",
       "    </tr>\n",
       "    <tr>\n",
       "      <th>the start of the</th>\n",
       "      <td>0.124985</td>\n",
       "    </tr>\n",
       "    <tr>\n",
       "      <th>at the expense of</th>\n",
       "      <td>0.113818</td>\n",
       "    </tr>\n",
       "    <tr>\n",
       "      <th>the nature of the</th>\n",
       "      <td>0.113289</td>\n",
       "    </tr>\n",
       "  </tbody>\n",
       "</table>\n",
       "</div>"
      ],
      "text/plain": [
       "                        value\n",
       "at the start of      0.216385\n",
       "there be number of   0.180309\n",
       "the way in which     0.167327\n",
       "the aim of the       0.158552\n",
       "the reason for this  0.151384\n",
       "the aim be to        0.149321\n",
       "be dependent on the  0.126278\n",
       "the start of the     0.124985\n",
       "at the expense of    0.113818\n",
       "the nature of the    0.113289"
      ]
     },
     "execution_count": 59,
     "metadata": {},
     "output_type": "execute_result"
    }
   ],
   "source": [
    "ftr.print_coef_for_predict(mod,df1.drop('_country',axis=1).columns, [9], 10)"
   ]
  },
  {
   "cell_type": "markdown",
   "metadata": {},
   "source": [
    "### Regresja logistyczna <br>\n",
    "1) Zbudowane na zblilansowanym zbiorze dla wszystkim zmiennych objaśnianych<br>\n",
    "2) Zmiennymi objaśniającymi są pojedyncze wyrazy"
   ]
  },
  {
   "cell_type": "code",
   "execution_count": null,
   "metadata": {},
   "outputs": [],
   "source": []
  },
  {
   "cell_type": "markdown",
   "metadata": {},
   "source": [
    "\n",
    "### Regresja logistyczna <br>\n",
    "1) Zbudowane na zbilansowanym zbiorze dla 3 zmiennych <br>\n",
    "2) Zmiennymi objaśniającymi są pojedyncze wyrazy"
   ]
  },
  {
   "cell_type": "code",
   "execution_count": null,
   "metadata": {},
   "outputs": [],
   "source": []
  },
  {
   "cell_type": "markdown",
   "metadata": {},
   "source": [
    "### Regresja logistyczna <br>\n",
    "1) Zbudowane na wszystkich zmiennych objaśnianych <br>\n",
    "2) TF IDF"
   ]
  },
  {
   "cell_type": "code",
   "execution_count": null,
   "metadata": {},
   "outputs": [],
   "source": []
  },
  {
   "cell_type": "markdown",
   "metadata": {},
   "source": [
    "### Regresja logistyczna <br>\n",
    "1) Zbudowane na wszystkich zmiennych objaśnianych <br>\n",
    "2) POSY"
   ]
  },
  {
   "cell_type": "code",
   "execution_count": null,
   "metadata": {},
   "outputs": [],
   "source": []
  },
  {
   "cell_type": "markdown",
   "metadata": {},
   "source": [
    "### Regresja logistyczna <br>\n",
    "1) Zbudowane na wszystkich zmiennych objaśnianych <br>\n",
    "2) Zmiennymi objaśniającymi sa 1 gramy i 2 gramy"
   ]
  },
  {
   "cell_type": "code",
   "execution_count": null,
   "metadata": {},
   "outputs": [],
   "source": []
  },
  {
   "cell_type": "markdown",
   "metadata": {},
   "source": [
    "### Regresja logistyczna <br>\n",
    "1) Zbudowane na wszystkich zmiennych objaśnianych <br>\n",
    "2) Zmiennymi objaśniającymi sa 1 gramy i 2 gramy i 3 gramy"
   ]
  },
  {
   "cell_type": "code",
   "execution_count": null,
   "metadata": {},
   "outputs": [],
   "source": []
  },
  {
   "cell_type": "markdown",
   "metadata": {},
   "source": [
    "### Regresja logistyczna <br>\n",
    "1) Zbudowane na wszystkich zmiennych objaśnianych <br>\n",
    "2) Zmiennymi objaśniającymi sa 1 gramy i 2 gramy i 3 gramy i 4 gramy i 5 gramy"
   ]
  },
  {
   "cell_type": "code",
   "execution_count": null,
   "metadata": {},
   "outputs": [],
   "source": []
  },
  {
   "cell_type": "markdown",
   "metadata": {},
   "source": [
    "### Regresja logistyczna <br>\n",
    "1) Zbudowane na wszystkich zmiennych objaśnianych <br>\n",
    "2) Zmiennymi objaśniającymi sa 1 gramy i 2 gramy i 3 gramy i 4 gramy i 5 gramy i POSY"
   ]
  },
  {
   "cell_type": "code",
   "execution_count": null,
   "metadata": {},
   "outputs": [],
   "source": []
  },
  {
   "cell_type": "code",
   "execution_count": null,
   "metadata": {},
   "outputs": [],
   "source": [
    "## TO DO:"
   ]
  },
  {
   "cell_type": "code",
   "execution_count": 16,
   "metadata": {},
   "outputs": [],
   "source": [
    "## 1) TUTAJ NIECH KTOŚ ZBIERZE WARTOŚCI F1 SCORE i ACCURACY I NIECH ZROBI WYKRES W PLOTLY DLA TYCH WARTOŚCI\n",
    "## 2) WRZUCI KOMENDĘ, ŻEBY NIE POKAZYWAŁY SIĘ ERRORY\n",
    "## 3) Regresja logistyczna którą wrzcuiłam do zrobienia jeszcze raz, bo Kaja jeszcze zbiór ulepszala"
   ]
  },
  {
   "cell_type": "code",
   "execution_count": null,
   "metadata": {},
   "outputs": [],
   "source": []
  },
  {
   "cell_type": "code",
   "execution_count": null,
   "metadata": {},
   "outputs": [],
   "source": []
  }
 ],
 "metadata": {
  "kernelspec": {
   "display_name": "Python 3",
   "language": "python",
   "name": "python3"
  },
  "language_info": {
   "codemirror_mode": {
    "name": "ipython",
    "version": 3
   },
   "file_extension": ".py",
   "mimetype": "text/x-python",
   "name": "python",
   "nbconvert_exporter": "python",
   "pygments_lexer": "ipython3",
   "version": "3.6.7"
  }
 },
 "nbformat": 4,
 "nbformat_minor": 2
}
