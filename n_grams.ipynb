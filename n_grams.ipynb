{
 "cells": [
  {
   "cell_type": "code",
   "execution_count": 20,
   "metadata": {},
   "outputs": [],
   "source": [
    " import re"
   ]
  },
  {
   "cell_type": "code",
   "execution_count": 21,
   "metadata": {},
   "outputs": [],
   "source": [
    "def n_grams(text, n=2):\n",
    "    '''\n",
    "    wymagania: modul re\n",
    "    text - artykul, na podstawie ktorego chcemy uzyskac liste n gramow\n",
    "    zalozenie - 1.text zostal wczesniej poddany zabiegom lematyzacji i czyszczenia\n",
    "                2.type(text)==str\n",
    "    n>2, type(n)==int\n",
    "    '''\n",
    "    if type(text) != str:\n",
    "        raise NameError(\"Zly typ argumentu text, text musi byc typu str\")\n",
    "    if type(n) != int or n<2:\n",
    "        raise NameError(\"n musi byc liczba calkowita, n>2\")\n",
    "    \n",
    "    \n",
    "    text = text.lower()\n",
    "    tokens = re.sub(r'[^a-zA-Z0-9\\s]', ' ', text).split() #slowa z text zapisane do listy\n",
    "    \n",
    "    n_grams=list() #miejsce na n gramy\n",
    "    \n",
    "    for i in range(len(tokens)-n+1):\n",
    "        s = tokens[i] \n",
    "        for j in range(1,n):\n",
    "            s = s + \"_\" + tokens[i+j]\n",
    "        n_grams.append(s)\n",
    "    \n",
    "    return n_grams\n",
    "    "
   ]
  }
 ],
 "metadata": {
  "kernelspec": {
   "display_name": "Python 3",
   "language": "python",
   "name": "python3"
  },
  "language_info": {
   "codemirror_mode": {
    "name": "ipython",
    "version": 3
   },
   "file_extension": ".py",
   "mimetype": "text/x-python",
   "name": "python",
   "nbconvert_exporter": "python",
   "pygments_lexer": "ipython3",
   "version": "3.7.1"
  }
 },
 "nbformat": 4,
 "nbformat_minor": 2
}
