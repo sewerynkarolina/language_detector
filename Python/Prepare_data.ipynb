{
 "cells": [
  {
   "cell_type": "code",
   "execution_count": 12,
   "metadata": {},
   "outputs": [],
   "source": [
    "# from sklearn.feature_extraction.text import CountVectorizer\n",
    "# import pandas as pd\n",
    "import pdftotext\n",
    "# import pandas as pd\n",
    "# import os\n",
    "# import unicodedata\n",
    "import re\n",
    "# import unicodedata\n",
    "# from PyPDF2 import PdfFileReader\n",
    "# from sklearn.feature_extraction.text import CountVectorizer\n",
    "# import pandas as pd\n",
    "# import pdftotext\n",
    "# from collections import Counter\n",
    "# import numpy as np\n",
    "# from nltk.util import ngrams\n",
    "from string import punctuation"
   ]
  },
  {
   "cell_type": "code",
   "execution_count": 35,
   "metadata": {},
   "outputs": [],
   "source": [
    "def n_grams(text, n=2):\n",
    "    '''\n",
    "    wymagania: modul re\n",
    "    text - artykul, na podstawie ktorego chcemy uzyskac liste n gramow\n",
    "    zalozenie - 1.text zostal wczesniej poddany zabiegom lematyzacji i czyszczenia\n",
    "                2.type(text)==str\n",
    "    n>2, type(n)==int\n",
    "    '''\n",
    "    if type(text) != str:\n",
    "        raise NameError(\"Zly typ argumentu text, text musi byc typu str\")\n",
    "    if type(n) != int or n<2:\n",
    "        raise NameError(\"n musi byc liczba calkowita, n>2\")\n",
    "    \n",
    "    \n",
    "    text = text.lower()\n",
    "    tokens = re.sub(r'[^a-zA-Z0-9\\s]', ' ', text).split() #slowa z text zapisane do listy\n",
    "    \n",
    "    n_grams=list() #miejsce na n gramy\n",
    "    \n",
    "    for i in range(len(tokens)-n+1):\n",
    "        s = tokens[i] \n",
    "        for j in range(1,n):\n",
    "            s = s + \" \" + tokens[i+j]\n",
    "        n_grams.append(s)\n",
    "    \n",
    "    return n_grams\n",
    "    "
   ]
  },
  {
   "cell_type": "code",
   "execution_count": 61,
   "metadata": {},
   "outputs": [],
   "source": [
    "def read_files(file_paths):\n",
    "    text_list = []\n",
    "    num_of_page = [0]*len(file_paths)\n",
    "    it = 0\n",
    "    for text in file_paths:\n",
    "        with open(text, \"rb\") as f:\n",
    "            pdf = pdftotext.PDF(f)\n",
    "            el_of_list = ''\n",
    "            #Ponieważ page in pdf  - to jest strona z artykułu to łącze stringi, pewnie to można lepiej\n",
    "  \n",
    "            for page in pdf:\n",
    "                el_of_list = el_of_list+\" startstrona \"+ page\n",
    "                num_of_page[it] += 1\n",
    "            it+=1\n",
    "                \n",
    "            text_list.append(el_of_list)  \n",
    "            \n",
    "    return (text_list, num_of_page)"
   ]
  },
  {
   "cell_type": "code",
   "execution_count": 19,
   "metadata": {},
   "outputs": [],
   "source": [
    "def normalize(file):\n",
    "    #zmiana na małe litery\n",
    "    file = file.lower()\n",
    "    #Zmieniamy np. ó na o\n",
    "    file = re.sub(r'[^\\x20-\\x7e]', '', file)\n",
    "    #usuwanie cyfry\n",
    "    file = re.sub(r'\\d+', '', file)\n",
    "    #usuwanie znaków specjalne\n",
    "    file = ''.join(c for c in file if c not in punctuation)\n",
    "    #Usuwamy  białe spacje\n",
    "    file = re.sub(' +', ' ', file)\n",
    "    return(file)"
   ]
  },
  {
   "cell_type": "code",
   "execution_count": 22,
   "metadata": {},
   "outputs": [],
   "source": [
    "def remove_intr_refe(file):\n",
    "    head, sep, result = file.partition(\"ntroductio\")\n",
    "    result, sep, tail = result.rpartition(\"eferences\")\n",
    "    return(result)"
   ]
  },
  {
   "cell_type": "code",
   "execution_count": 72,
   "metadata": {},
   "outputs": [],
   "source": [
    "def remove_footer(file,page_number, n_gram=25):\n",
    "\n",
    "    \n",
    "    for i in list(range(n_gram, 2,-1)):\n",
    "        main_dict = Counter(dict(filter(lambda x: x[1] >= page_number/2, Counter(n_grams(file,i)).items())))\n",
    "        if (main_dict!=Counter() ):\n",
    "            break\n",
    "    \n",
    "    #Usuwam nagłówki\n",
    "    for i in list(main_dict.keys()):\n",
    "        if(i in file):\n",
    "            file = file.replace(i,\"\")\n",
    "            \n",
    "    return(file)\n",
    "    \n",
    "\n",
    "\n",
    "    "
   ]
  },
  {
   "cell_type": "code",
   "execution_count": 26,
   "metadata": {},
   "outputs": [],
   "source": [
    "file_paths = ['/home/kasia/Pulpit/language_detector/BrodkaGrzybkowski.pdf','/home/kasia/Pulpit/language_detector/Spratling.pdf']"
   ]
  },
  {
   "cell_type": "code",
   "execution_count": 74,
   "metadata": {
    "scrolled": true
   },
   "outputs": [
    {
     "data": {
      "text/plain": [
       "'n periodicity in two directions have been extensively studied in the past for such a system an ewald an accurate treatment of longrange electro type summation method as well as otherstatic interactions in computer simulations of po approaches have been proposed the mainlar systems is of great importance for a typical disadvantage of the above methods is low comthreedimensionally periodic system the ewald putational eciency because the energy expressionsummation method is the most widely used contains a sum over twodimensional reciprocaland accepted technique for this purpose for a lattice and all pairs of charges similar summationslab geometry which occurs frequently in surface appears in the energy functions of the nonewaldand interfacial systems the conventional ewald methods however there are sums oversummation cannot be used since there is no peri mixed real and reciprocal sublattices three yearsodicity in the one of three dimensions ago yeh and berkowitz showed that the the coulomb interactions in computer simu conventional ewald method may be used for slablations of threedimensional charged systems with geometry but the simulation box must contain a large empty space along nonperiodic direction and a shapedependent correction term must be corresponding author introduced a year ago kawata and mikami email address brodkausedupl a br odka proposed modication of the reciprocalspace see front matter elsevier science bv all rights reservedpii s  summation in the twodimensionally ewald wheremethod both methods reduce the x n x er flk ll ba jqkl n zkl jcomputational time signicantly kl n a twodimensional ewald type ewd summation formula for the dipoledipole interactions lk qkl n zkl ll qkl n zkl has been received by heyes replacing the ca jqkl n zkl jg charge qk in the surface formula of the coulombinteraction energy by the operator lk rrk lk p x n x egg expig qkl denotes the kth dipole moment and rk is its posi lx ly kl gtion in the simulation box the same form of the dipoledipole interaction energy was obtained di lqk glql gda g zkl rectly using the integral representation of thegamma function and poisson summation formula oda g zkl ilzk lql g lqk glzl the ewd method treats correctly the long ozklrange interactions of polar molecules in system of z z o da g zkl nite thickness but similarly as for the coulomb lk l l ozklinteractions the ewd summation formula iscomputationally expensive in this letter we used p nthe approach proposed in to the dipoledipole a p x g eg lz lz exp a zkl interactions and the modied summation method lx ly kl k lwill be abbreviated as ewdm to test themethod we performed molecular dynamics md a x n simulations of polar gayberne particles conned es c p jl j p k kto slit pores with p the dipoledipole interaction ba r erfcarr a p exp a r r in the ewd method a set of n point dipoles pin a simulation box in a shape of prism with a ca r erfcarr a pa r rectangular base lx ly and any height is con exp a r r sidered the box repeated in the xyplane gives atwodimensional tetragonal lattice and in the box centered at n n n nx lx ny ly da g z expgzerfcga az gwhere nx and ny are integers a dipole with a exp gzerfcga az dipole moment lk is located at rk n calculations reported in or in for rectangular in the above equations the vector rkl rk rl base of the simulation box give the total inter which describes position of the kth dipole momentaction energy of the dipole moments in the fol with respect to the lth one is expressed by the qkllowing form component in the xyplane and zkl component similarly the dipole moment lk has components lqk x n x lk ll and lzk the sums over n in eq and over n in eqe are sums over all tetragonal lattice cells where kl n jrkl n j the prime indicates that for n the terms with lk rkl n ll rkl n k l are to be omitted g is a twodimensional jrkl n j vector in reciprocal lattice g pkx lx ky ly where kx and ky are integers and g jgj the er egg eg g es c convergence parameter a is chosen for com  putational convenience and usually its typical va introducing the structure factorlue is such that the functions ba r and ca r areclose to zero for rij minlx ly in other x n sgh lqk g lzk h expig qk hzk words the realspace sum is restricted to the kbasic simulation box ie n and the normalminimum image convention is applied the g the nal form of the expression is as followsterm can be calculated together with the real z g x g hspace sum and the selfcorrection term is eg expconstant therefore these three terms are calcu lx ly g alated in the same way as in a case of a system with jsg hj periodicity in three dimensions the recipro dh g hcalspace sum unlikely to the threedimensionalperiodicity case cannot be expressed as a sum of in this way the double sum over the dipoles instructure factors containing all the dipole moment eq is replaced with the single sum over thepositions multiplied by coecients depending on dipoles needed to calculate the structure factorthe reciprocalspace vector in consequence apart sg h and the integral with respect to the varifrom summation over the reciprocalspace vector g able h the above formula is used in the ewdmone must consider all pairs of the dipole moments summation method and for particular values of gthat seriously impacts computational eciency and h the structure factor sg h is calculated and to improve an eciency of the energy calcula then integration with respect to h and summationtions following the approach proposed by kawata over g are performed structure of the reciprocaland mikami one may express the function space summation and the calculation schemeda g z and its derivatives appearing in eq are the same as those in the conventional threeby the fourier integrals as follows dimensional ewald method this similarity is z clearly visible when the variable h is treated as the g da g z exp z component of the threedimensional reciprocal p a g h space vector and the integral in eq is ap h proximated by the riemann sum exp expihz dh a z oda g z g h i exp computational eciency oz p a g h h to evaluate eciency of the ewdm summa exp expihz dh a tion method we carried out md simulations of the z o da g z g h polar ellipsoidal molecules conned to slit pores a exp molecule is represented by a gayberne particle oz p a g h with noncentral axial dipole moment in the h exp expihz dh md simulation moving molecules were placed a in the simulation box in a shape of rectangular the above representations can be used to sim prism between two pore walls formed by alikeplify the reciprocalspace sum gayberne particles but without dipole moments n x z parameters of the intermolecular interactions are x geg lq g lzk h identical to those reported in and and we lx ly kl g k consider two types of the slit pore described in exp g h those papers in the rst pore type the long axes of a lql g lzl h the wall ellipsoids are perpendicular to the wall g h surface system i and relation between the side expig qkl hzkl dh lengths of the simulation box are lx ly lz  in the second pore type the long that absolute values of the integration parametersaxes of the wall particles are parallel to the wall hcut and dh are almost independent of the simusurfaces system ii and the simulation box is lation box height and for both systems they aredened by lx ly lz initial about r and r respectivelypositions of the molecules were the nodes of the the cpu times per simulation timestep preabab hexagonal lattice and random orienta sented in table indicate that compared with thetions as well as translational and angular velocities ewd method the ewdm method showed awere assigned to the moving molecules the md signicant reduction in computational time forsimulations were performed for the reduced den the systems composed of polar molecules thesity q qr and temperature t overall performance of the ewdm method iskb t e the gayberne potential parameters about times faster than that obtained from ther and e represent the hard core diameter ewd techniquealong the short axis of the ellipsoidal particle andthe potential well depth for the sidebyside conguration respectively the md simulation de conclusionstails were the same as those presented in but ewd and ewdm methods were used to using the approach proposed by kawata andcalculate the dipoledipole interactions instead of mikami we presented the twodimensionalthe simple spherical truncation the value of the ewald type summation for the dipoledipole inconvergence factor a was lx and the cuto teractions the most time consuming calculationsradius in the realspace summation was lx ini arise from the reciprocalspace summation and intially using the ewd method we set the cuto the ewdm method the proposed modicationradii of the reciprocalspace vector components allows us to simplify the summation replacing onekxcut and kycut that were enough to get the relative sum over the dipole moments with the integralaccuracy of the dipoledipole interaction energy with respect to h treated as the zcomponent of thedee less than over timesteps in other reciprocalspace vector in numerical calculationswords relative changes in the energy introduced by the integral is approximated by a sum and calthe increase of kxcut or kycut should be less than culations with the ewdm method are fasterin every timestep then for the xed values of kxcut than those obtained from the ewd method beand kycut we set optimal values of the boundary and cause number of terms in the sum is less thanstepsize of the integration with respect to h in the number of dipole moments therefore reductionewdm method in numerical calculations theintegral was approximated by the riemann sumover kz changing from hcut dh to hcut dh with table stepsize dh we assume that both hcut and dh are cpu time per timestep in the md simulations using the ewdexpressed in units of plz first of all we deter method and ewdm one the simulation box size and themined the stepsize dh starting from dh and optimal sets of parametersaincreasing its value with increment for a large system i system iiand constant value of hcut the maximum ewd method s value of dh for which the dierence between the ewdm method s energy in the ewdm method and that in the lx r ewd technique is less than the required accu ly r lz r racy was treated as the optimal value after that kxcut gcut x plx using the same criterion value of hcut was dimin kycut gcut y ply ishing with decrement for the constant and hcut plz optimal value of the stepsize dh the optimal sets dhplz of parameters for the systems under consideration a cpu time on digital personal workstation au alphaare collected in table it is interesting to note mhz  in computational time should be larger when r'"
      ]
     },
     "execution_count": 74,
     "metadata": {},
     "output_type": "execute_result"
    }
   ],
   "source": [
    "remove_footer(remove_intr_refe(normalize(read_files(file_paths)[0][0])),read_files(file_paths)[1][0],25)"
   ]
  }
 ],
 "metadata": {
  "kernelspec": {
   "display_name": "Python 3",
   "language": "python",
   "name": "python3"
  },
  "language_info": {
   "codemirror_mode": {
    "name": "ipython",
    "version": 3
   },
   "file_extension": ".py",
   "mimetype": "text/x-python",
   "name": "python",
   "nbconvert_exporter": "python",
   "pygments_lexer": "ipython3",
   "version": "3.6.7"
  }
 },
 "nbformat": 4,
 "nbformat_minor": 2
}
