{
 "cells": [
  {
   "cell_type": "code",
   "execution_count": 1,
   "metadata": {},
   "outputs": [],
   "source": [
    "import pandas as pd\n",
    "import numpy as np\n",
    "from sklearn.feature_extraction.text import CountVectorizer"
   ]
  },
  {
   "cell_type": "code",
   "execution_count": 2,
   "metadata": {},
   "outputs": [],
   "source": [
    "df = pd.read_pickle(\"../df_lem.pkl\")"
   ]
  },
  {
   "cell_type": "code",
   "execution_count": 3,
   "metadata": {},
   "outputs": [],
   "source": [
    "source = ['Americans','American',\n",
    "'American','Arab' ,\n",
    "'Austrians', 'Bangladeshi','British',\n",
    "'Czechs' ,'Chinese',\n",
    "'Chinese','English',\n",
    "'French' ,'French',\n",
    "'French','German' ,\n",
    "'Germans' ,'Greeks' ,\n",
    "'Hungarians','Italian',\n",
    "'Italians','Japanese' ,\n",
    "'Lithuanians' ,'Malays','Poles' ,\n",
    "'Polish' ,'Portuguese',\n",
    "'Portugiese','Russian','Russian',\n",
    "'Russians','Slovakians',\n",
    "'Spanish','Spanish',\n",
    "'Turkish','Turks','Vietnamese','Chinese',\n",
    "'Bangladeshi','China','Hungary','Vietnam','Greece',\n",
    "'Poland','Malaysia',\n",
    "'Georgia','UK',\n",
    "'Japan','Bangladesh',\n",
    "'USA','Japan',\n",
    "'Russia','China',\n",
    "'Kuwait','United Arab Emirates',\n",
    "'Oman','Saudi Arabia',\n",
    "'Bahrain','Qatar',\n",
    "'USA','Russia', 'Austria',\n",
    "'UK','Malaysia','France',\n",
    "'USA','sogbesan/Poland','Lithuania',\n",
    "'Germany','UK','Turkey','CzechRepublic',\n",
    "'Kuwait','Vietnam','Spain']\n",
    "\n",
    "dest = ['USA','USA','USA','UnitedArabEmirates','Austria','Bangladesh',\n",
    "'UK','CzechRepublic','China','China','UK','France','France','France','Germany','Germany',\n",
    "'Greece','Hungary', 'Italy','Italy','Japan','Lithuania','Malaysia','Poland',\n",
    "'Poland','Portugal','Portugal','Russia','Russia','Russia', 'Slovakia','Spain','Spain','Turkey',\n",
    "'Turkey','Vietnam','China','Bangladesh','China','Hungary','Vietnam','Greece','Poland','Malaysia',\n",
    "'Georgia','UK','Japan','Bagladesh','USA','Japan',\n",
    "'Russia','China', 'Kuwait','UnitedArabEmirates','Oman','SaudiArabia',\n",
    "'Bahrain','Qatar','USA','Russia', 'Austria','UK','Malaysia',\n",
    "'France','USA','Poland','Lithuania','Germany','UK','Turkey',\n",
    "'CzechRepublic','Kuwait','Vietnam','Spain']"
   ]
  },
  {
   "cell_type": "code",
   "execution_count": 4,
   "metadata": {},
   "outputs": [],
   "source": [
    "lista = []\n",
    "for i in list(range(df.shape[0])):\n",
    "    a = df['label'][i]\n",
    "    b = a.split('/')[5]    \n",
    "    stri = ''\n",
    "    stri = a.split('/')[0]+'/'+a.split('/')[1]+'/'+a.split('/')[2]+'/'+a.split('/')[3]+'/'+a.split('/')[4]+'/'+dest[source.index(b)]+'/'+a.split('/')[6]\n",
    "    lista.append(stri)\n",
    "    \n",
    "df['label'] = lista"
   ]
  },
  {
   "cell_type": "code",
   "execution_count": 5,
   "metadata": {},
   "outputs": [],
   "source": [
    "# wybor interesujacych nas krajow - nie robimy modelu dla wszystkich\n",
    "country_model = ['China',  'France', 'Germany',  'Italy',\n",
    "       'Japan',  'Poland', 'Russia', 'Spain',\n",
    "       'Turkey', 'UK', 'USA', 'Vietnam']\n",
    "\n",
    "df = df[df[\"country\"].isin(country_model)]"
   ]
  },
  {
   "cell_type": "code",
   "execution_count": 6,
   "metadata": {},
   "outputs": [],
   "source": [
    "X, label = df['text_cc'], df['label'] \n"
   ]
  },
  {
   "cell_type": "code",
   "execution_count": 7,
   "metadata": {},
   "outputs": [],
   "source": [
    "vectorizer = CountVectorizer()\n",
    "X = vectorizer.fit_transform(X)\n",
    "X = pd.DataFrame(X.toarray(), columns=vectorizer.get_feature_names())\n",
    "\n"
   ]
  },
  {
   "cell_type": "code",
   "execution_count": 8,
   "metadata": {},
   "outputs": [],
   "source": [
    "d = X.sum(axis=0)"
   ]
  },
  {
   "cell_type": "code",
   "execution_count": 9,
   "metadata": {},
   "outputs": [],
   "source": [
    "col_to_delete = [ind for ind in d.index if d[ind]<=15]\n"
   ]
  },
  {
   "cell_type": "code",
   "execution_count": 10,
   "metadata": {},
   "outputs": [],
   "source": [
    "X = X.drop(col_to_delete, axis=1)"
   ]
  },
  {
   "cell_type": "code",
   "execution_count": 19,
   "metadata": {},
   "outputs": [],
   "source": [
    "X['_label'] = label"
   ]
  },
  {
   "cell_type": "code",
   "execution_count": 21,
   "metadata": {},
   "outputs": [],
   "source": [
    "#zapis\n",
    "X.to_pickle(\"1gram.pkl\")"
   ]
  },
  {
   "cell_type": "code",
   "execution_count": null,
   "metadata": {},
   "outputs": [],
   "source": []
  }
 ],
 "metadata": {
  "kernelspec": {
   "display_name": "Python 3",
   "language": "python",
   "name": "python3"
  },
  "language_info": {
   "codemirror_mode": {
    "name": "ipython",
    "version": 3
   },
   "file_extension": ".py",
   "mimetype": "text/x-python",
   "name": "python",
   "nbconvert_exporter": "python",
   "pygments_lexer": "ipython3",
   "version": "3.6.5"
  }
 },
 "nbformat": 4,
 "nbformat_minor": 2
}
