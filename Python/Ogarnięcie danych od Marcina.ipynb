{
 "cells": [
  {
   "cell_type": "code",
   "execution_count": 4,
   "metadata": {},
   "outputs": [],
   "source": [
    "import pandas as pd"
   ]
  },
  {
   "cell_type": "code",
   "execution_count": 2,
   "metadata": {},
   "outputs": [],
   "source": [
    "df0 = pd.read_csv(\"text0.csv\") #7 plików pustych\n",
    "df1 = pd.read_csv(\"text1.csv\") #88 plików pustych\n",
    "df2 = pd.read_csv(\"text2.csv\") #0 plikow pustych\n",
    "df3 = pd.read_csv(\"text3.csv\") #7 plików pustych"
   ]
  },
  {
   "cell_type": "markdown",
   "metadata": {},
   "source": [
    "##### ŁĄCZĘ TABELE"
   ]
  },
  {
   "cell_type": "code",
   "execution_count": 3,
   "metadata": {},
   "outputs": [],
   "source": [
    "df = df0.append(df1).append(df2).append(df3).reset_index()[['label','text']]"
   ]
  },
  {
   "cell_type": "markdown",
   "metadata": {},
   "source": [
    "#### TRZEBA ZMIENIĆ NAZWY BO NIE MA KRAJÓW TAKICH JAK NP. GERMANS"
   ]
  },
  {
   "cell_type": "code",
   "execution_count": 5,
   "metadata": {},
   "outputs": [],
   "source": [
    "source = ['Americans','American',\n",
    "'American','Arab' ,\n",
    "'Austrians', 'Bangladeshi','British',\n",
    "'Czechs' ,'Chinese',\n",
    "'Chinese','English',\n",
    "'French' ,'French',\n",
    "'French','German' ,\n",
    "'Germans' ,'Greeks' ,\n",
    "'Hungarians','Italian',\n",
    "'Italians','Japanese' ,\n",
    "'Lithuanians' ,'Malays','Poles' ,\n",
    "'Polish' ,'Portuguese',\n",
    "'Portugiese','Russian','Russian',\n",
    "'Russians','Slovakians',\n",
    "'Spanish','Spanish',\n",
    "'Turkish','Turks','Vietnamese','Chinese',\n",
    "'Bangladeshi','China','Hungary','Vietnam','Greece',\n",
    "'Poland','Malaysia',\n",
    "'Georgia','UK',\n",
    "'Japan','Bangladesh',\n",
    "'USA','Japan',\n",
    "'Russia','China',\n",
    "'Kuwait','United Arab Emirates',\n",
    "'Oman','Saudi Arabia',\n",
    "'Bahrain','Qatar',\n",
    "'USA','Russia', 'Austria',\n",
    "'UK','Malaysia','France',\n",
    "'USA','sogbesan/Poland','Lithuania',\n",
    "'Germany','UK','Turkey','CzechRepublic',\n",
    "'Kuwait','Vietnam','Spain']\n",
    "\n",
    "dest = ['USA','USA','USA','UnitedArabEmirates','Austria','Bangladesh',\n",
    "'UK','CzechRepublic','China','China','UK','France','France','France','Germany','Germany',\n",
    "'Greece','Hungary', 'Italy','Italy','Japan','Lithuania','Malaysia','Poland',\n",
    "'Poland','Portugal','Portugal','Russia','Russia','Russia', 'Slovakia','Spain','Spain','Turkey',\n",
    "'Turkey','Vietnam','China','Bangladesh','China','Hungary','Vietnam','Greece','Poland','Malaysia',\n",
    "'Georgia','UK','Japan','Bagladesh','USA','Japan',\n",
    "'Russia','China', 'Kuwait','UnitedArabEmirates','Oman','SaudiArabia',\n",
    "'Bahrain','Qatar','USA','Russia', 'Austria','UK','Malaysia',\n",
    "'France','USA','Poland','Lithuania','Germany','UK','Turkey',\n",
    "'CzechRepublic','Kuwait','Vietnam','Spain']\n"
   ]
  },
  {
   "cell_type": "code",
   "execution_count": 6,
   "metadata": {},
   "outputs": [],
   "source": [
    "country_list= []\n",
    "name_list = []\n",
    "for i in list(range(df.shape[0])):\n",
    "    a = df['label'][i]\n",
    "    country_list.append(a.split('/')[len(a.split('/'))-2])\n",
    "    name_list.append(a.split('/')[len(a.split('/'))-1])\n",
    "df['country']=country_list\n",
    "df['name']=name_list"
   ]
  },
  {
   "cell_type": "code",
   "execution_count": 7,
   "metadata": {},
   "outputs": [],
   "source": [
    "df = df.drop('label', axis=1)"
   ]
  },
  {
   "cell_type": "code",
   "execution_count": 8,
   "metadata": {},
   "outputs": [],
   "source": [
    "for i in list(range(df.shape[0])):\n",
    "    if df['country'][i] in source:\n",
    "        where_in_source = source.index(df['country'][i])\n",
    "        df['country'][i]= dest[where_in_source]"
   ]
  },
  {
   "cell_type": "markdown",
   "metadata": {},
   "source": [
    "### OBRABIAMY "
   ]
  },
  {
   "cell_type": "code",
   "execution_count": 2,
   "metadata": {},
   "outputs": [
    {
     "name": "stdout",
     "output_type": "stream",
     "text": [
      "[nltk_data] Downloading package wordnet to /home/kasia/nltk_data...\n",
      "[nltk_data]   Package wordnet is already up-to-date!\n",
      "[nltk_data] Downloading package words to /home/kasia/nltk_data...\n",
      "[nltk_data]   Package words is already up-to-date!\n"
     ]
    }
   ],
   "source": [
    "import unicodedata\n",
    "import prepare_data as prep_data"
   ]
  },
  {
   "cell_type": "markdown",
   "metadata": {},
   "source": [
    "###### USUWAM NANY:"
   ]
  },
  {
   "cell_type": "code",
   "execution_count": 10,
   "metadata": {},
   "outputs": [],
   "source": [
    "df = prep_data.delete_nan(df)"
   ]
  },
  {
   "cell_type": "markdown",
   "metadata": {},
   "source": [
    "###### NORMALIZACJA, LEMATYZACJA, USUWANIE NAGŁÓWKÓW, PRZED/PO REF I INTRO"
   ]
  },
  {
   "cell_type": "code",
   "execution_count": 3,
   "metadata": {},
   "outputs": [],
   "source": [
    "import pdftotext"
   ]
  },
  {
   "cell_type": "code",
   "execution_count": 7,
   "metadata": {},
   "outputs": [],
   "source": [
    "def get_list_of_paths(df, path_to_folders=\"/home/kasia/Pulpit/new/\"):\n",
    "    \"\"\"\n",
    "    Zwraca listę ścieżek dokumentów z dataframu na podstawie nazwy artukułu\n",
    "    i kraju w jakim się znajduje\n",
    "    \"\"\"\n",
    "    lista = []\n",
    "    for i in list(range(df.shape[0])):\n",
    "        lista.append(path_to_folders+ df['country'][i]+'/'+df['name'][i])\n",
    "    return lista\n"
   ]
  },
  {
   "cell_type": "code",
   "execution_count": 8,
   "metadata": {},
   "outputs": [],
   "source": [
    "def get_number_of_pages(file_paths):\n",
    "    \"\"\"\n",
    "    Przyjmuje listę ścieżek pdfów, zwraca listę odpowiadających stron\n",
    "    \"\"\"\n",
    "    num_of_page = [0]*len(file_paths)\n",
    "    it = 0\n",
    "    for text in file_paths:\n",
    "        with open(text, \"rb\") as f:\n",
    "            pdf = pdftotext.PDF(f)\n",
    "            for page in pdf:\n",
    "                num_of_page[it] += 1\n",
    "            it+=1 \n",
    "    return num_of_page"
   ]
  },
  {
   "cell_type": "code",
   "execution_count": 33,
   "metadata": {},
   "outputs": [],
   "source": [
    "paths = get_list_of_paths(df, \"/home/kasia/Pulpit/new/\")\n",
    "pages = get_number_of_pages(paths)"
   ]
  },
  {
   "cell_type": "code",
   "execution_count": 39,
   "metadata": {
    "scrolled": true
   },
   "outputs": [],
   "source": [
    "for i in list(range(df.shape[0])):\n",
    "    df['text'][i] = prep_data.normalization(df['text'][i])\n",
    "    df['text'][i] = prep_data.normalize(df['text'][i]) \n",
    "    df['text'][i] = prep_data.remove_intr_refe(df['text'][i]) \n",
    "    df['text'][i] = prep_data.remove_footer(df['text'][i],pages[i] )\n",
    "  "
   ]
  },
  {
   "cell_type": "code",
   "execution_count": 54,
   "metadata": {},
   "outputs": [],
   "source": [
    "#df.to_csv(\"norm_norm_remove_remove.csv\")"
   ]
  },
  {
   "cell_type": "code",
   "execution_count": 99,
   "metadata": {
    "scrolled": true
   },
   "outputs": [],
   "source": [
    "to = pd.read_csv(\"norm_norm_remove_remove.csv\")"
   ]
  }
 ],
 "metadata": {
  "kernelspec": {
   "display_name": "Python 3",
   "language": "python",
   "name": "python3"
  },
  "language_info": {
   "codemirror_mode": {
    "name": "ipython",
    "version": 3
   },
   "file_extension": ".py",
   "mimetype": "text/x-python",
   "name": "python",
   "nbconvert_exporter": "python",
   "pygments_lexer": "ipython3",
   "version": "3.6.7"
  }
 },
 "nbformat": 4,
 "nbformat_minor": 2
}
