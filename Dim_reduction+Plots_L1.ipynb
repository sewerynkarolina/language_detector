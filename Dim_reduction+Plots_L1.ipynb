{
 "cells": [
  {
   "cell_type": "code",
   "execution_count": 1,
   "metadata": {},
   "outputs": [
    {
     "data": {
      "text/html": [
       "        <script type=\"text/javascript\">\n",
       "        window.PlotlyConfig = {MathJaxConfig: 'local'};\n",
       "        if (window.MathJax) {MathJax.Hub.Config({SVG: {font: \"STIX-Web\"}});}\n",
       "        if (typeof require !== 'undefined') {\n",
       "        require.undef(\"plotly\");\n",
       "        requirejs.config({\n",
       "            paths: {\n",
       "                'plotly': ['https://cdn.plot.ly/plotly-latest.min']\n",
       "            }\n",
       "        });\n",
       "        require(['plotly'], function(Plotly) {\n",
       "            window._Plotly = Plotly;\n",
       "        });\n",
       "        }\n",
       "        </script>\n",
       "        "
      ]
     },
     "metadata": {},
     "output_type": "display_data"
    }
   ],
   "source": [
    "import numpy as np\n",
    "from sklearn.decomposition import PCA\n",
    "from sklearn.decomposition import IncrementalPCA\n",
    "import pandas as pd\n",
    "import matplotlib.pyplot as plt\n",
    "from sklearn import preprocessing\n",
    "import seaborn as sns\n",
    "import plotly.plotly as py\n",
    "import plotly.graph_objs as go\n",
    "import numpy as np\n",
    "import plotly.graph_objs as go\n",
    "from plotly.offline import download_plotlyjs, init_notebook_mode, plot, iplot\n",
    "\n",
    "init_notebook_mode(connected=True)\n",
    "\n",
    "#Zbiór wygenerowany jak w pliku create_matrix_from_files, ale zawierający wszystkie kolumny\n",
    "df = pd.read_csv(\"probna3.csv\")"
   ]
  },
  {
   "cell_type": "markdown",
   "metadata": {},
   "source": [
    "## IPCA (Incremental PCA):\n",
    "Zamiennik PCA przy dużych zbiorach - robi mądrzej z pamięcią. Z tego co widzę to dzieli na warstwy (batch_size). <br>\n",
    "Przy małych zbiorach pewnie nie będzie różnicy, ale przy większym wyniki mogą być już różne."
   ]
  },
  {
   "cell_type": "code",
   "execution_count": 2,
   "metadata": {
    "scrolled": true
   },
   "outputs": [],
   "source": [
    "def ipca_fun(data, n_components, batch_size):\n",
    "\n",
    "    #Usuwam nazwy plikow i kraje:\n",
    "    df_new=df.iloc[:,1:df.shape[1]-1]\n",
    "    \n",
    "    ipca = IncrementalPCA(n_components=n_components, batch_size=batch_size)\n",
    "    #n_components - do ilu wymiarów redukujemy (głupio, bo 2 to głupio, ale chciałam narysować)\n",
    "    #batch_size - chyba ile obserwacji na raz w pamięci mieli jednocześnie? \n",
    "    ipca.fit(df_new)\n",
    "    \n",
    "    return(pd.DataFrame(ipca.transform(df_new)))"
   ]
  },
  {
   "cell_type": "code",
   "execution_count": 3,
   "metadata": {
    "scrolled": false
   },
   "outputs": [
    {
     "data": {
      "image/png": "[encoded data removed]",
      "text/plain": [
       "<Figure size 432x288 with 1 Axes>"
      ]
     },
     "metadata": {
      "needs_background": "light"
     },
     "output_type": "display_data"
    }
   ],
   "source": [
    "def ipca_plot2(df, batch_size):\n",
    "    '''\n",
    "    Wykres w przypadku redukcji do dwóch wymiarów\n",
    "    '''\n",
    "    new_data = ipca_fun(df,2,batch_size)\n",
    "    \n",
    "    #Zmieniam kody państw na liczby(kolory)\n",
    "    le = preprocessing.LabelEncoder()\n",
    "    le.fit(df[\"@C#ountry\"])\n",
    "    \n",
    "    colors =  le.transform(df[\"@C#ountry\"])\n",
    "\n",
    "    scatt = sns.scatterplot(x=new_data[0], y=new_data[1], hue=colors, legend =\"full\")\n",
    "    plt.legend(labels = df[\"@C#ountry\"].unique())\n",
    "    \n",
    "ipca_plot2(df,6)"
   ]
  },
  {
   "cell_type": "code",
   "execution_count": 4,
   "metadata": {},
   "outputs": [
    {
     "data": {
      "text/html": [
       "<div>\n",
       "<style scoped>\n",
       "    .dataframe tbody tr th:only-of-type {\n",
       "        vertical-align: middle;\n",
       "    }\n",
       "\n",
       "    .dataframe tbody tr th {\n",
       "        vertical-align: top;\n",
       "    }\n",
       "\n",
       "    .dataframe thead th {\n",
       "        text-align: right;\n",
       "    }\n",
       "</style>\n",
       "<table border=\"1\" class=\"dataframe\">\n",
       "  <thead>\n",
       "    <tr style=\"text-align: right;\">\n",
       "      <th></th>\n",
       "      <th>0</th>\n",
       "      <th>1</th>\n",
       "    </tr>\n",
       "  </thead>\n",
       "  <tbody>\n",
       "    <tr>\n",
       "      <th>0</th>\n",
       "      <td>-484.307808</td>\n",
       "      <td>77.864592</td>\n",
       "    </tr>\n",
       "    <tr>\n",
       "      <th>1</th>\n",
       "      <td>289.551244</td>\n",
       "      <td>-269.755283</td>\n",
       "    </tr>\n",
       "    <tr>\n",
       "      <th>2</th>\n",
       "      <td>-379.407410</td>\n",
       "      <td>42.649764</td>\n",
       "    </tr>\n",
       "    <tr>\n",
       "      <th>3</th>\n",
       "      <td>893.049735</td>\n",
       "      <td>427.726693</td>\n",
       "    </tr>\n",
       "    <tr>\n",
       "      <th>4</th>\n",
       "      <td>742.977237</td>\n",
       "      <td>-0.528789</td>\n",
       "    </tr>\n",
       "    <tr>\n",
       "      <th>5</th>\n",
       "      <td>377.602172</td>\n",
       "      <td>-319.214649</td>\n",
       "    </tr>\n",
       "    <tr>\n",
       "      <th>6</th>\n",
       "      <td>-154.697606</td>\n",
       "      <td>100.367038</td>\n",
       "    </tr>\n",
       "    <tr>\n",
       "      <th>7</th>\n",
       "      <td>-121.441020</td>\n",
       "      <td>-75.722219</td>\n",
       "    </tr>\n",
       "    <tr>\n",
       "      <th>8</th>\n",
       "      <td>-602.452936</td>\n",
       "      <td>100.877545</td>\n",
       "    </tr>\n",
       "    <tr>\n",
       "      <th>9</th>\n",
       "      <td>-463.345609</td>\n",
       "      <td>44.841829</td>\n",
       "    </tr>\n",
       "    <tr>\n",
       "      <th>10</th>\n",
       "      <td>-334.945577</td>\n",
       "      <td>19.098500</td>\n",
       "    </tr>\n",
       "    <tr>\n",
       "      <th>11</th>\n",
       "      <td>237.417578</td>\n",
       "      <td>-148.205021</td>\n",
       "    </tr>\n",
       "  </tbody>\n",
       "</table>\n",
       "</div>"
      ],
      "text/plain": [
       "             0           1\n",
       "0  -484.307808   77.864592\n",
       "1   289.551244 -269.755283\n",
       "2  -379.407410   42.649764\n",
       "3   893.049735  427.726693\n",
       "4   742.977237   -0.528789\n",
       "5   377.602172 -319.214649\n",
       "6  -154.697606  100.367038\n",
       "7  -121.441020  -75.722219\n",
       "8  -602.452936  100.877545\n",
       "9  -463.345609   44.841829\n",
       "10 -334.945577   19.098500\n",
       "11  237.417578 -148.205021"
      ]
     },
     "execution_count": 4,
     "metadata": {},
     "output_type": "execute_result"
    }
   ],
   "source": [
    "new_data = ipca_fun(df,2,6)\n",
    "new_data"
   ]
  },
  {
   "cell_type": "code",
   "execution_count": 5,
   "metadata": {},
   "outputs": [
    {
     "name": "stderr",
     "output_type": "stream",
     "text": [
      "/home/kasia/.local/lib/python3.6/site-packages/sklearn/decomposition/incremental_pca.py:294: RuntimeWarning:\n",
      "\n",
      "Mean of empty slice.\n",
      "\n",
      "/home/kasia/.local/lib/python3.6/site-packages/numpy/core/_methods.py:85: RuntimeWarning:\n",
      "\n",
      "invalid value encountered in double_scalars\n",
      "\n"
     ]
    },
    {
     "data": {
      "application/vnd.plotly.v1+json": {
       "config": {
        "linkText": "Export to plot.ly",
        "plotlyServerURL": "https://plot.ly",
        "responsive": true,
        "showLink": false
       },
       "data": [
        {
         "marker": {
          "line": {
           "color": "rgba(217, 217, 217, 0.14)",
           "width": 0.5
          },
          "opacity": 0.8,
          "size": 12
         },
         "mode": "markers",
         "name": "PL",
         "type": "scatter",
         "uid": "63e42949-3a68-4a08-bc52-58ee4750c4f4",
         "x": [
          -484.25243907388807,
          289.5498338620204,
          -379.4574359000277
         ],
         "y": [
          77.57391367338099,
          -269.9753691901993,
          43.22196497174201
         ]
        },
        {
         "marker": {
          "line": {
           "color": "rgba(217, 217, 217, 0.14)",
           "width": 0.5
          },
          "opacity": 0.8,
          "size": 12
         },
         "mode": "markers",
         "name": "DE",
         "type": "scatter",
         "uid": "5fe4ce6a-a6e1-46ea-b94e-da55ad191ac7",
         "x": [
          893.0942939479743,
          742.9508713115439
         ],
         "y": [
          427.41902505270804,
          0.1759337865397419
         ]
        },
        {
         "marker": {
          "line": {
           "color": "rgba(217, 217, 217, 0.14)",
           "width": 0.5
          },
          "opacity": 0.8,
          "size": 12
         },
         "mode": "markers",
         "name": "NO",
         "type": "scatter",
         "uid": "1393efcb-8a3f-41fc-a219-6111c1b557d9",
         "x": [
          377.6397489667435,
          -154.6954324342603
         ],
         "y": [
          -320.19840689629046,
          99.61601291841289
         ]
        },
        {
         "marker": {
          "line": {
           "color": "rgba(217, 217, 217, 0.14)",
           "width": 0.5
          },
          "opacity": 0.8,
          "size": 12
         },
         "mode": "markers",
         "name": "LT",
         "type": "scatter",
         "uid": "4afbdae0-2a24-453c-8dc2-43fef10f9958",
         "x": [
          -121.60228580064422
         ],
         "y": [
          -73.96991278453848
         ]
        },
        {
         "marker": {
          "line": {
           "color": "rgba(217, 217, 217, 0.14)",
           "width": 0.5
          },
          "opacity": 0.8,
          "size": 12
         },
         "mode": "markers",
         "name": "RU",
         "type": "scatter",
         "uid": "45c49a38-949d-4f20-9b98-25c2158d5f27",
         "x": [
          -602.4097838838693
         ],
         "y": [
          100.7079218709031
         ]
        },
        {
         "marker": {
          "line": {
           "color": "rgba(217, 217, 217, 0.14)",
           "width": 0.5
          },
          "opacity": 0.8,
          "size": 12
         },
         "mode": "markers",
         "name": "UA",
         "type": "scatter",
         "uid": "8ecf4556-1683-4ea1-97b7-ae8756dae52e",
         "x": [
          -463.31950953871217
         ],
         "y": [
          44.80034462265795
         ]
        },
        {
         "marker": {
          "line": {
           "color": "rgba(217, 217, 217, 0.14)",
           "width": 0.5
          },
          "opacity": 0.8,
          "size": 12
         },
         "mode": "markers",
         "name": "SE",
         "type": "scatter",
         "uid": "f50c9730-914c-44d3-bfe8-6d615bdaa76f",
         "x": [
          -334.91845035068604,
          237.42058889380635
         ],
         "y": [
          18.88563563484205,
          -148.25706366015893
         ]
        }
       ],
       "layout": {
        "margin": {
         "b": 0,
         "l": 0,
         "r": 0,
         "t": 0
        }
       }
      },
      "text/html": [
       "<div>\n",
       "        \n",
       "        \n",
       "            <div id=\"b1953789-0564-41ba-9b9b-343f9150e1c3\" class=\"plotly-graph-div\"></div>\n",
       "            <script type=\"text/javascript\">\n",
       "                require([\"plotly\"], function(Plotly) {\n",
       "                    window.PLOTLYENV=window.PLOTLYENV || {};\n",
       "                    window.PLOTLYENV.BASE_URL='https://plot.ly';\n",
       "                    \n",
       "                if (document.getElementById(\"b1953789-0564-41ba-9b9b-343f9150e1c3\")) {\n",
       "                    Plotly.newPlot(\n",
       "                        'b1953789-0564-41ba-9b9b-343f9150e1c3',\n",
       "                        [{\"marker\": {\"line\": {\"color\": \"rgba(217, 217, 217, 0.14)\", \"width\": 0.5}, \"opacity\": 0.8, \"size\": 12}, \"mode\": \"markers\", \"name\": \"PL\", \"type\": \"scatter\", \"uid\": \"3ec001c7-e35c-49fe-a695-314e07502b7b\", \"x\": [-484.25243907388807, 289.5498338620204, -379.4574359000277], \"y\": [77.57391367338099, -269.9753691901993, 43.22196497174201]}, {\"marker\": {\"line\": {\"color\": \"rgba(217, 217, 217, 0.14)\", \"width\": 0.5}, \"opacity\": 0.8, \"size\": 12}, \"mode\": \"markers\", \"name\": \"DE\", \"type\": \"scatter\", \"uid\": \"2ce688c8-acc3-4ece-b008-a171498ce939\", \"x\": [893.0942939479743, 742.9508713115439], \"y\": [427.41902505270804, 0.1759337865397419]}, {\"marker\": {\"line\": {\"color\": \"rgba(217, 217, 217, 0.14)\", \"width\": 0.5}, \"opacity\": 0.8, \"size\": 12}, \"mode\": \"markers\", \"name\": \"NO\", \"type\": \"scatter\", \"uid\": \"78599915-bd4e-4f1c-87ce-5b6e7c965c15\", \"x\": [377.6397489667435, -154.6954324342603], \"y\": [-320.19840689629046, 99.61601291841289]}, {\"marker\": {\"line\": {\"color\": \"rgba(217, 217, 217, 0.14)\", \"width\": 0.5}, \"opacity\": 0.8, \"size\": 12}, \"mode\": \"markers\", \"name\": \"LT\", \"type\": \"scatter\", \"uid\": \"dea5229e-10b3-4bc7-a2cf-30107135fd9c\", \"x\": [-121.60228580064422], \"y\": [-73.96991278453848]}, {\"marker\": {\"line\": {\"color\": \"rgba(217, 217, 217, 0.14)\", \"width\": 0.5}, \"opacity\": 0.8, \"size\": 12}, \"mode\": \"markers\", \"name\": \"RU\", \"type\": \"scatter\", \"uid\": \"20b8a4d1-0962-4415-9bd5-d54dfbd17b2d\", \"x\": [-602.4097838838693], \"y\": [100.7079218709031]}, {\"marker\": {\"line\": {\"color\": \"rgba(217, 217, 217, 0.14)\", \"width\": 0.5}, \"opacity\": 0.8, \"size\": 12}, \"mode\": \"markers\", \"name\": \"UA\", \"type\": \"scatter\", \"uid\": \"73a67fa8-24df-405a-8d30-cabb01efe870\", \"x\": [-463.31950953871217], \"y\": [44.80034462265795]}, {\"marker\": {\"line\": {\"color\": \"rgba(217, 217, 217, 0.14)\", \"width\": 0.5}, \"opacity\": 0.8, \"size\": 12}, \"mode\": \"markers\", \"name\": \"SE\", \"type\": \"scatter\", \"uid\": \"fd41c952-60cc-45ea-9c49-8ab981e98105\", \"x\": [-334.91845035068604, 237.42058889380635], \"y\": [18.88563563484205, -148.25706366015893]}],\n",
       "                        {\"margin\": {\"b\": 0, \"l\": 0, \"r\": 0, \"t\": 0}},\n",
       "                        {\"showLink\": false, \"linkText\": \"Export to plot.ly\", \"plotlyServerURL\": \"https://plot.ly\", \"responsive\": true}\n",
       "                    )\n",
       "                };\n",
       "                });\n",
       "            </script>\n",
       "        </div>"
      ]
     },
     "metadata": {},
     "output_type": "display_data"
    }
   ],
   "source": [
    "def plot_R2(df, batch_size):\n",
    "    '''\n",
    "    Taki sam wykres jak wcześniej tylko w plotly\n",
    "    '''\n",
    "    new_data = ipca_fun(df,2,batch_size)\n",
    "    new_data['@C#ountry']=df['@C#ountry']\n",
    "    \n",
    "    countries=new_data[\"@C#ountry\"].unique()\n",
    "    \n",
    "    it = 0\n",
    "    x,y,z=[],[],[]\n",
    "    data= []\n",
    "    for i in countries:\n",
    "        country_data = new_data.loc[new_data[\"@C#ountry\"] == i]\n",
    "        x.append(country_data[0])\n",
    "        y.append(country_data[1])\n",
    "\n",
    "        trace = go.Scatter(\n",
    "            x=x[it],\n",
    "            y=y[it],\n",
    "            name = i,\n",
    "            mode='markers',\n",
    "            marker=dict(\n",
    "                size=12,\n",
    "                line=dict(\n",
    "                    color='rgba(217, 217, 217, 0.14)',\n",
    "                    width=0.5\n",
    "                ),\n",
    "                opacity=0.8\n",
    "            )\n",
    "        )\n",
    "\n",
    "        data.append(trace)\n",
    "        it+=1\n",
    "\n",
    "    layout = go.Layout(\n",
    "        margin=dict(\n",
    "            l=0,\n",
    "            r=0,\n",
    "            b=0,\n",
    "            t=0\n",
    "        )\n",
    "    )\n",
    "    fig = go.Figure(data=data, layout=layout)\n",
    "    iplot(fig, filename='simple-scatter')\n",
    "    \n",
    "plot_R2(df,2)\n",
    "    "
   ]
  },
  {
   "cell_type": "code",
   "execution_count": 6,
   "metadata": {
    "scrolled": false
   },
   "outputs": [
    {
     "data": {
      "application/vnd.plotly.v1+json": {
       "config": {
        "linkText": "Export to plot.ly",
        "plotlyServerURL": "https://plot.ly",
        "responsive": true,
        "showLink": false
       },
       "data": [
        {
         "marker": {
          "line": {
           "color": "rgba(217, 217, 217, 0.14)",
           "width": 0.5
          },
          "opacity": 0.8,
          "size": 12
         },
         "mode": "markers",
         "name": "PL",
         "type": "scatter3d",
         "uid": "847b1832-d7ab-4974-b6b0-a33e6d251555",
         "x": [
          -484.427469819694,
          289.9150592490652,
          -379.42346018042326
         ],
         "y": [
          84.0606168711337,
          -294.31330491505827,
          55.53762670920539
         ],
         "z": [
          15.248671553507288,
          -53.728862229654425,
          50.94768716528128
         ]
        },
        {
         "marker": {
          "line": {
           "color": "rgba(217, 217, 217, 0.14)",
           "width": 0.5
          },
          "opacity": 0.8,
          "size": 12
         },
         "mode": "markers",
         "name": "DE",
         "type": "scatter3d",
         "uid": "8f89cd61-7d96-4173-bd98-14d35b6fb79a",
         "x": [
          893.3484963876006,
          742.1157326033098
         ],
         "y": [
          367.1935731103507,
          110.19235088963376
         ],
         "z": [
          -302.34862499914385,
          458.3818395186129
         ]
        },
        {
         "marker": {
          "line": {
           "color": "rgba(217, 217, 217, 0.14)",
           "width": 0.5
          },
          "opacity": 0.8,
          "size": 12
         },
         "mode": "markers",
         "name": "NO",
         "type": "scatter3d",
         "uid": "2096222e-5ec4-4bed-8b95-56f96f635d14",
         "x": [
          377.84771324248686,
          -154.85969019970585
         ],
         "y": [
          -336.7172871513475,
          116.15688239520412
         ],
         "z": [
          -43.00414858971538,
          56.886391491664796
         ]
        },
        {
         "marker": {
          "line": {
           "color": "rgba(217, 217, 217, 0.14)",
           "width": 0.5
          },
          "opacity": 0.8,
          "size": 12
         },
         "mode": "markers",
         "name": "LT",
         "type": "scatter3d",
         "uid": "46bc2160-2594-4982-bd6e-825cb2cc3fc7",
         "x": [
          -121.35555412832521
         ],
         "y": [
          -84.62839160527939
         ],
         "z": [
          -28.228048603703293
         ]
        },
        {
         "marker": {
          "line": {
           "color": "rgba(217, 217, 217, 0.14)",
           "width": 0.5
          },
          "opacity": 0.8,
          "size": 12
         },
         "mode": "markers",
         "name": "RU",
         "type": "scatter3d",
         "uid": "27308fa9-b0a2-4af8-af36-5041681c6ba0",
         "x": [
          -602.5168166339932
         ],
         "y": [
          100.87786597546184
         ],
         "z": [
          -12.759885943793218
         ]
        },
        {
         "marker": {
          "line": {
           "color": "rgba(217, 217, 217, 0.14)",
           "width": 0.5
          },
          "opacity": 0.8,
          "size": 12
         },
         "mode": "markers",
         "name": "UA",
         "type": "scatter3d",
         "uid": "3469d5c1-5795-45cb-b0c2-a440a902ea86",
         "x": [
          -463.3823366274685
         ],
         "y": [
          46.11684821487738
         ],
         "z": [
          0.2413676371625988
         ]
        },
        {
         "marker": {
          "line": {
           "color": "rgba(217, 217, 217, 0.14)",
           "width": 0.5
          },
          "opacity": 0.8,
          "size": 12
         },
         "mode": "markers",
         "name": "SE",
         "type": "scatter3d",
         "uid": "c948678a-f3fc-4b4b-9b45-b0f574141415",
         "x": [
          -334.9137218951985,
          237.65204800234943
         ],
         "y": [
          11.358618666043096,
          -175.83539916022332
         ],
         "z": [
          -34.8283465542793,
          -106.80804044593731
         ]
        }
       ],
       "layout": {
        "margin": {
         "b": 0,
         "l": 0,
         "r": 0,
         "t": 0
        }
       }
      },
      "text/html": [
       "<div>\n",
       "        \n",
       "        \n",
       "            <div id=\"12e74177-27dc-4e93-ad3c-cb1c60e1259f\" class=\"plotly-graph-div\"></div>\n",
       "            <script type=\"text/javascript\">\n",
       "                require([\"plotly\"], function(Plotly) {\n",
       "                    window.PLOTLYENV=window.PLOTLYENV || {};\n",
       "                    window.PLOTLYENV.BASE_URL='https://plot.ly';\n",
       "                    \n",
       "                if (document.getElementById(\"12e74177-27dc-4e93-ad3c-cb1c60e1259f\")) {\n",
       "                    Plotly.newPlot(\n",
       "                        '12e74177-27dc-4e93-ad3c-cb1c60e1259f',\n",
       "                        [{\"marker\": {\"line\": {\"color\": \"rgba(217, 217, 217, 0.14)\", \"width\": 0.5}, \"opacity\": 0.8, \"size\": 12}, \"mode\": \"markers\", \"name\": \"PL\", \"type\": \"scatter3d\", \"uid\": \"08b8fcb4-07c3-4462-9c9d-617fcb719bbc\", \"x\": [-484.427469819694, 289.9150592490652, -379.42346018042326], \"y\": [84.0606168711337, -294.31330491505827, 55.53762670920539], \"z\": [15.248671553507288, -53.728862229654425, 50.94768716528128]}, {\"marker\": {\"line\": {\"color\": \"rgba(217, 217, 217, 0.14)\", \"width\": 0.5}, \"opacity\": 0.8, \"size\": 12}, \"mode\": \"markers\", \"name\": \"DE\", \"type\": \"scatter3d\", \"uid\": \"4ac7cc28-9259-47c5-abd0-634f8858fadd\", \"x\": [893.3484963876006, 742.1157326033098], \"y\": [367.1935731103507, 110.19235088963376], \"z\": [-302.34862499914385, 458.3818395186129]}, {\"marker\": {\"line\": {\"color\": \"rgba(217, 217, 217, 0.14)\", \"width\": 0.5}, \"opacity\": 0.8, \"size\": 12}, \"mode\": \"markers\", \"name\": \"NO\", \"type\": \"scatter3d\", \"uid\": \"ccc60736-4fc5-4f2a-a872-e7782c09df27\", \"x\": [377.84771324248686, -154.85969019970585], \"y\": [-336.7172871513475, 116.15688239520412], \"z\": [-43.00414858971538, 56.886391491664796]}, {\"marker\": {\"line\": {\"color\": \"rgba(217, 217, 217, 0.14)\", \"width\": 0.5}, \"opacity\": 0.8, \"size\": 12}, \"mode\": \"markers\", \"name\": \"LT\", \"type\": \"scatter3d\", \"uid\": \"807ad1c3-a0e7-4e09-90fe-d58baab91b1e\", \"x\": [-121.35555412832521], \"y\": [-84.62839160527939], \"z\": [-28.228048603703293]}, {\"marker\": {\"line\": {\"color\": \"rgba(217, 217, 217, 0.14)\", \"width\": 0.5}, \"opacity\": 0.8, \"size\": 12}, \"mode\": \"markers\", \"name\": \"RU\", \"type\": \"scatter3d\", \"uid\": \"1e7bb038-3216-4765-b19e-2ae7daf16128\", \"x\": [-602.5168166339932], \"y\": [100.87786597546184], \"z\": [-12.759885943793218]}, {\"marker\": {\"line\": {\"color\": \"rgba(217, 217, 217, 0.14)\", \"width\": 0.5}, \"opacity\": 0.8, \"size\": 12}, \"mode\": \"markers\", \"name\": \"UA\", \"type\": \"scatter3d\", \"uid\": \"3cdd0bc7-f557-4831-864d-8f370158400d\", \"x\": [-463.3823366274685], \"y\": [46.11684821487738], \"z\": [0.2413676371625988]}, {\"marker\": {\"line\": {\"color\": \"rgba(217, 217, 217, 0.14)\", \"width\": 0.5}, \"opacity\": 0.8, \"size\": 12}, \"mode\": \"markers\", \"name\": \"SE\", \"type\": \"scatter3d\", \"uid\": \"20f26289-0737-4cab-903a-e6aef183ecde\", \"x\": [-334.9137218951985, 237.65204800234943], \"y\": [11.358618666043096, -175.83539916022332], \"z\": [-34.8283465542793, -106.80804044593731]}],\n",
       "                        {\"margin\": {\"b\": 0, \"l\": 0, \"r\": 0, \"t\": 0}},\n",
       "                        {\"showLink\": false, \"linkText\": \"Export to plot.ly\", \"plotlyServerURL\": \"https://plot.ly\", \"responsive\": true}\n",
       "                    )\n",
       "                };\n",
       "                });\n",
       "            </script>\n",
       "        </div>"
      ]
     },
     "metadata": {},
     "output_type": "display_data"
    }
   ],
   "source": [
    "def plot_R3(df, batch_size):\n",
    "    \"\"\"\n",
    "    Wykres 3 wymiary, przyjmujemy \"surową\" macierz \n",
    "    \"\"\"\n",
    "    new_data = ipca_fun(df,3,batch_size)\n",
    "    new_data['@C#ountry']=df['@C#ountry']\n",
    "    \n",
    "    countries=new_data[\"@C#ountry\"].unique()\n",
    "    it = 0\n",
    "    x,y,z=[],[],[]\n",
    "    data= []\n",
    "    for i in countries:\n",
    "        country_data = new_data.loc[new_data[\"@C#ountry\"] == i]\n",
    "        x.append(country_data[0])\n",
    "        y.append(country_data[1])\n",
    "        z.append(country_data[2])\n",
    "\n",
    "        trace = go.Scatter3d(\n",
    "            x=x[it],\n",
    "            y=y[it],\n",
    "            z=z[it],\n",
    "            name = i,\n",
    "            mode='markers',\n",
    "            marker=dict(\n",
    "                size=12,\n",
    "                line=dict(\n",
    "                    color='rgba(217, 217, 217, 0.14)',\n",
    "                    width=0.5\n",
    "                ),\n",
    "                opacity=0.8\n",
    "            )\n",
    "        )\n",
    "\n",
    "        data.append(trace)\n",
    "        it+=1\n",
    "    layout = go.Layout(\n",
    "        margin=dict(\n",
    "            l=0,\n",
    "            r=0,\n",
    "            b=0,\n",
    "            t=0\n",
    "        )\n",
    "    )\n",
    "\n",
    "\n",
    "    fig = go.Figure(data=data, layout=layout)\n",
    "    iplot(fig, filename='simple-3d-scatter')\n",
    "    \n",
    "plot_R3(df,12)"
   ]
  },
  {
   "cell_type": "markdown",
   "metadata": {},
   "source": [
    "#### DORZUCENIE PUNKTU DO WYKRESU"
   ]
  },
  {
   "cell_type": "code",
   "execution_count": 7,
   "metadata": {
    "scrolled": false
   },
   "outputs": [
    {
     "data": {
      "application/vnd.plotly.v1+json": {
       "config": {
        "linkText": "Export to plot.ly",
        "plotlyServerURL": "https://plot.ly",
        "responsive": true,
        "showLink": false
       },
       "data": [
        {
         "marker": {
          "line": {
           "color": "rgba(217, 217, 217, 0.14)",
           "width": 0.2
          },
          "opacity": 0.8,
          "size": 12
         },
         "mode": "markers",
         "name": "PL",
         "type": "scatter3d",
         "uid": "96f7398f-f836-4d90-b370-4ec070210969",
         "x": [
          -0.9707341294741233,
          0.5809547562741019,
          -0.7603187789028415
         ],
         "y": [
          0.42961762766339673,
          -1.50417863386869,
          0.28384211680770555
         ],
         "z": [
          0.08858898620597966,
          -0.31214426897607733,
          0.2959866988854882
         ]
        },
        {
         "marker": {
          "line": {
           "color": "rgba(217, 217, 217, 0.14)",
           "width": 0.2
          },
          "opacity": 0.8,
          "size": 12
         },
         "mode": "markers",
         "name": "DE",
         "type": "scatter3d",
         "uid": "7db33482-e47c-49d3-bcea-dc201580f672",
         "x": [
          1.7901624680380148,
          1.4871102787087198
         ],
         "y": [
          1.8766556521319913,
          0.5631718887862899
         ],
         "z": [
          -1.7565305984497654,
          2.663024271700966
         ]
        },
        {
         "marker": {
          "line": {
           "color": "rgba(217, 217, 217, 0.14)",
           "width": 0.2
          },
          "opacity": 0.8,
          "size": 12
         },
         "mode": "markers",
         "name": "NO",
         "type": "scatter3d",
         "uid": "eef36f64-f702-4074-8ede-83230756be4b",
         "x": [
          0.7571611723933706,
          -0.310320111724045
         ],
         "y": [
          -1.720897222548132,
          0.5936554608908705
         ],
         "z": [
          -0.249837758839913,
          0.33048831391505273
         ]
        },
        {
         "marker": {
          "line": {
           "color": "rgba(217, 217, 217, 0.14)",
           "width": 0.2
          },
          "opacity": 0.8,
          "size": 12
         },
         "mode": "markers",
         "name": "LT",
         "type": "scatter3d",
         "uid": "6a44c7bc-2ce3-4d6f-a931-35069eef3fa4",
         "x": [
          -0.24318187042005848
         ],
         "y": [
          -0.4325194150093643
         ],
         "z": [
          -0.1639942338321281
         ]
        },
        {
         "marker": {
          "line": {
           "color": "rgba(217, 217, 217, 0.14)",
           "width": 0.2
          },
          "opacity": 0.8,
          "size": 12
         },
         "mode": "markers",
         "name": "RU",
         "type": "scatter3d",
         "uid": "3ebc9eec-6ceb-4ebd-90c6-8842a8393ca2",
         "x": [
          -1.2073709150028498
         ],
         "y": [
          0.5155673498157081
         ],
         "z": [
          -0.07413008771931845
         ]
        },
        {
         "marker": {
          "line": {
           "color": "rgba(217, 217, 217, 0.14)",
           "width": 0.2
          },
          "opacity": 0.8,
          "size": 12
         },
         "mode": "markers",
         "name": "UA",
         "type": "scatter3d",
         "uid": "51815b82-69ad-43a4-b08f-25157963353a",
         "x": [
          -0.9285622248613937
         ],
         "y": [
          0.235694331814881
         ],
         "z": [
          0.0014022542359927255
         ]
        },
        {
         "marker": {
          "line": {
           "color": "rgba(217, 217, 217, 0.14)",
           "width": 0.2
          },
          "opacity": 0.8,
          "size": 12
         },
         "mode": "markers",
         "name": "SE",
         "type": "scatter3d",
         "uid": "e3c159bc-bfaf-4205-863b-1d28dc0071f4",
         "x": [
          -0.6711266402664618,
          0.4762259952375732
         ],
         "y": [
          0.058051712995629334,
          -0.8986608694802782
         ],
         "z": [
          -0.20233945636821493,
          -0.6205141207580497
         ]
        },
        {
         "marker": {
          "line": {
           "color": "rgb(0,0,0)",
           "width": 1
          },
          "opacity": 1,
          "size": 12
         },
         "mode": "markers",
         "name": "article",
         "type": "scatter3d",
         "uid": "4b7962f1-0699-4c49-97d1-5fef1f7cd568",
         "x": [
          -1.3111771813878916
         ],
         "y": [
          0.5306033614152779
         ],
         "z": [
          -0.05776867324123538
         ]
        }
       ],
       "layout": {
        "margin": {
         "b": 0,
         "l": 0,
         "r": 0,
         "t": 0
        }
       }
      },
      "text/html": [
       "<div>\n",
       "        \n",
       "        \n",
       "            <div id=\"89d1cfeb-71c0-4f7d-9d61-4a2b22eabbf6\" class=\"plotly-graph-div\"></div>\n",
       "            <script type=\"text/javascript\">\n",
       "                require([\"plotly\"], function(Plotly) {\n",
       "                    window.PLOTLYENV=window.PLOTLYENV || {};\n",
       "                    window.PLOTLYENV.BASE_URL='https://plot.ly';\n",
       "                    \n",
       "                if (document.getElementById(\"89d1cfeb-71c0-4f7d-9d61-4a2b22eabbf6\")) {\n",
       "                    Plotly.newPlot(\n",
       "                        '89d1cfeb-71c0-4f7d-9d61-4a2b22eabbf6',\n",
       "                        [{\"marker\": {\"line\": {\"color\": \"rgba(217, 217, 217, 0.14)\", \"width\": 0.2}, \"opacity\": 0.8, \"size\": 12}, \"mode\": \"markers\", \"name\": \"PL\", \"type\": \"scatter3d\", \"uid\": \"4a4f82a2-0d71-46b8-9a5e-a4f7a1b5d59c\", \"x\": [-0.9707341294741233, 0.5809547562741019, -0.7603187789028415], \"y\": [0.42961762766339673, -1.50417863386869, 0.28384211680770555], \"z\": [0.08858898620597966, -0.31214426897607733, 0.2959866988854882]}, {\"marker\": {\"line\": {\"color\": \"rgba(217, 217, 217, 0.14)\", \"width\": 0.2}, \"opacity\": 0.8, \"size\": 12}, \"mode\": \"markers\", \"name\": \"DE\", \"type\": \"scatter3d\", \"uid\": \"5f037489-f71f-4042-9cea-a69b545e4621\", \"x\": [1.7901624680380148, 1.4871102787087198], \"y\": [1.8766556521319913, 0.5631718887862899], \"z\": [-1.7565305984497654, 2.663024271700966]}, {\"marker\": {\"line\": {\"color\": \"rgba(217, 217, 217, 0.14)\", \"width\": 0.2}, \"opacity\": 0.8, \"size\": 12}, \"mode\": \"markers\", \"name\": \"NO\", \"type\": \"scatter3d\", \"uid\": \"0b262413-eef8-4310-bc6c-4a6d38557b11\", \"x\": [0.7571611723933706, -0.310320111724045], \"y\": [-1.720897222548132, 0.5936554608908705], \"z\": [-0.249837758839913, 0.33048831391505273]}, {\"marker\": {\"line\": {\"color\": \"rgba(217, 217, 217, 0.14)\", \"width\": 0.2}, \"opacity\": 0.8, \"size\": 12}, \"mode\": \"markers\", \"name\": \"LT\", \"type\": \"scatter3d\", \"uid\": \"0ccf907a-2aca-4d90-892e-af913dc3e8a0\", \"x\": [-0.24318187042005848], \"y\": [-0.4325194150093643], \"z\": [-0.1639942338321281]}, {\"marker\": {\"line\": {\"color\": \"rgba(217, 217, 217, 0.14)\", \"width\": 0.2}, \"opacity\": 0.8, \"size\": 12}, \"mode\": \"markers\", \"name\": \"RU\", \"type\": \"scatter3d\", \"uid\": \"709053cc-8003-4ebd-a62d-380b7729a650\", \"x\": [-1.2073709150028498], \"y\": [0.5155673498157081], \"z\": [-0.07413008771931845]}, {\"marker\": {\"line\": {\"color\": \"rgba(217, 217, 217, 0.14)\", \"width\": 0.2}, \"opacity\": 0.8, \"size\": 12}, \"mode\": \"markers\", \"name\": \"UA\", \"type\": \"scatter3d\", \"uid\": \"7fbc7ca2-3f08-463a-af9d-10dc8cd29b90\", \"x\": [-0.9285622248613937], \"y\": [0.235694331814881], \"z\": [0.0014022542359927255]}, {\"marker\": {\"line\": {\"color\": \"rgba(217, 217, 217, 0.14)\", \"width\": 0.2}, \"opacity\": 0.8, \"size\": 12}, \"mode\": \"markers\", \"name\": \"SE\", \"type\": \"scatter3d\", \"uid\": \"bfcfb45f-3a86-4735-bddb-25e254368aab\", \"x\": [-0.6711266402664618, 0.4762259952375732], \"y\": [0.058051712995629334, -0.8986608694802782], \"z\": [-0.20233945636821493, -0.6205141207580497]}, {\"marker\": {\"line\": {\"color\": \"rgb(0,0,0)\", \"width\": 1}, \"opacity\": 1, \"size\": 12}, \"mode\": \"markers\", \"name\": \"article\", \"type\": \"scatter3d\", \"uid\": \"0deaf5c5-a1ad-4218-9ffc-836a64dcb37b\", \"x\": [-1.3111771813878916], \"y\": [0.5306033614152779], \"z\": [-0.05776867324123538]}],\n",
       "                        {\"margin\": {\"b\": 0, \"l\": 0, \"r\": 0, \"t\": 0}},\n",
       "                        {\"showLink\": false, \"linkText\": \"Export to plot.ly\", \"plotlyServerURL\": \"https://plot.ly\", \"responsive\": true}\n",
       "                    )\n",
       "                };\n",
       "                });\n",
       "            </script>\n",
       "        </div>"
      ]
     },
     "metadata": {},
     "output_type": "display_data"
    }
   ],
   "source": [
    "def plotR3_with_prediction(df,point, batch_size):\n",
    "    \"\"\"\n",
    "    Wykresy kolorowych punktów identyczne jak \n",
    "    w plot_R2\n",
    "    point - to lista, która zawiera liczności powtórzeń wyrazów jak w df\n",
    "    \"\"\"\n",
    "    \n",
    "    df_new=df.iloc[:,1:df.shape[1]-1]\n",
    "    \n",
    "    ipca = IncrementalPCA(3, batch_size)\n",
    "    ipca.fit(df_new)\n",
    "    \n",
    "\n",
    "    new_data =  pd.DataFrame(ipca.transform(df_new))\n",
    "    new_data['@C#ountry']=df['@C#ountry']\n",
    "        \n",
    "    countries=new_data[\"@C#ountry\"].unique()\n",
    "  \n",
    "    #Znajduje kierunki główne na podstawie tych samych przekształceń\n",
    "    #dla artykułu dla którego szukamy narodowości\n",
    "    prediction = pd.DataFrame(ipca.transform(pd.DataFrame(point).transpose()))\n",
    "\n",
    "    it = 0\n",
    "    x,y,z=[],[],[]\n",
    "    data= []\n",
    "    for i in countries:\n",
    "        country_data = new_data.loc[new_data[\"@C#ountry\"] == i]\n",
    "        x.append(country_data[0])\n",
    "        y.append(country_data[1])\n",
    "        z.append(country_data[2])\n",
    "\n",
    "        trace = go.Scatter3d(\n",
    "            x=x[it],\n",
    "            y=y[it],\n",
    "            z=z[it],\n",
    "            name = i,\n",
    "            mode='markers',\n",
    "            marker=dict(\n",
    "                size=12,\n",
    "                line=dict(\n",
    "                    color='rgba(217, 217, 217, 0.14)',\n",
    "                    width=0.2\n",
    "                ),\n",
    "                opacity=0.8\n",
    "            )\n",
    "        )\n",
    "\n",
    "        data.append(trace)\n",
    "        it+=1\n",
    "        \n",
    "    trace = go.Scatter3d(\n",
    "        x = prediction[0],\n",
    "        y = prediction[1],\n",
    "        z = prediction[2],\n",
    "        name = \"article\",\n",
    "        mode='markers',\n",
    "        marker=dict(\n",
    "            size=12,\n",
    "            line=dict(\n",
    "            color='rgb(0,0,0)',\n",
    "            width=1\n",
    "            ),\n",
    "             opacity=1\n",
    "            )   \n",
    "    )\n",
    "    \n",
    "    layout = go.Layout(\n",
    "        margin=dict(\n",
    "            l=0,\n",
    "            r=0,\n",
    "            b=0,\n",
    "            t=0\n",
    "        )\n",
    "    )\n",
    "    \n",
    "    data.append(trace)\n",
    "\n",
    "    fig = go.Figure(data=data, layout=layout)\n",
    "    iplot(fig, filename='simple-3d-scatter')\n",
    "    \n",
    "plotR3_with_prediction(df,[0]*9037,12)"
   ]
  },
  {
   "cell_type": "code",
   "execution_count": 8,
   "metadata": {},
   "outputs": [
    {
     "data": {
      "application/vnd.plotly.v1+json": {
       "config": {
        "linkText": "Export to plot.ly",
        "plotlyServerURL": "https://plot.ly",
        "responsive": true,
        "showLink": false
       },
       "data": [
        {
         "marker": {
          "line": {
           "color": "rgba(217, 217, 217, 0.14)",
           "width": 0.5
          },
          "opacity": 0.8,
          "size": 12
         },
         "mode": "markers",
         "name": "PL",
         "type": "scatter",
         "uid": "d322d8ab-1b91-40cc-9bca-6356e646ad58",
         "x": [
          -0.9707341294741233,
          0.5809547562741019,
          -0.7603187789028415
         ],
         "y": [
          0.42961762766339673,
          -1.50417863386869,
          0.28384211680770555
         ]
        },
        {
         "marker": {
          "line": {
           "color": "rgba(217, 217, 217, 0.14)",
           "width": 0.5
          },
          "opacity": 0.8,
          "size": 12
         },
         "mode": "markers",
         "name": "DE",
         "type": "scatter",
         "uid": "0e4879c5-4a2a-42d3-a4af-a7996f14866d",
         "x": [
          1.7901624680380148,
          1.4871102787087198
         ],
         "y": [
          1.8766556521319913,
          0.5631718887862899
         ]
        },
        {
         "marker": {
          "line": {
           "color": "rgba(217, 217, 217, 0.14)",
           "width": 0.5
          },
          "opacity": 0.8,
          "size": 12
         },
         "mode": "markers",
         "name": "NO",
         "type": "scatter",
         "uid": "031ceeec-1bdf-4038-b818-241857e7d00b",
         "x": [
          0.7571611723933706,
          -0.310320111724045
         ],
         "y": [
          -1.720897222548132,
          0.5936554608908705
         ]
        },
        {
         "marker": {
          "line": {
           "color": "rgba(217, 217, 217, 0.14)",
           "width": 0.5
          },
          "opacity": 0.8,
          "size": 12
         },
         "mode": "markers",
         "name": "LT",
         "type": "scatter",
         "uid": "3a3d5e77-67e3-46d5-9e73-882e357113bf",
         "x": [
          -0.24318187042005848
         ],
         "y": [
          -0.4325194150093643
         ]
        },
        {
         "marker": {
          "line": {
           "color": "rgba(217, 217, 217, 0.14)",
           "width": 0.5
          },
          "opacity": 0.8,
          "size": 12
         },
         "mode": "markers",
         "name": "RU",
         "type": "scatter",
         "uid": "e19684b4-7f86-4ac8-a74b-e00f892b3860",
         "x": [
          -1.2073709150028498
         ],
         "y": [
          0.5155673498157081
         ]
        },
        {
         "marker": {
          "line": {
           "color": "rgba(217, 217, 217, 0.14)",
           "width": 0.5
          },
          "opacity": 0.8,
          "size": 12
         },
         "mode": "markers",
         "name": "UA",
         "type": "scatter",
         "uid": "c2faa6b4-eace-4575-acc5-ada6adbc47d2",
         "x": [
          -0.9285622248613937
         ],
         "y": [
          0.235694331814881
         ]
        },
        {
         "marker": {
          "line": {
           "color": "rgba(217, 217, 217, 0.14)",
           "width": 0.5
          },
          "opacity": 0.8,
          "size": 12
         },
         "mode": "markers",
         "name": "SE",
         "type": "scatter",
         "uid": "96cfa1f8-5373-4425-9f98-dd5e0ee56860",
         "x": [
          -0.6711266402664618,
          0.4762259952375732
         ],
         "y": [
          0.058051712995629334,
          -0.8986608694802782
         ]
        },
        {
         "marker": {
          "line": {
           "color": "rgb(0,0,0)",
           "width": 1
          },
          "opacity": 1,
          "size": 15
         },
         "mode": "markers",
         "name": "article",
         "type": "scatter",
         "uid": "ea80a4fc-125b-447d-8c10-ec745b7245b7",
         "x": [
          -1.3111771813878916
         ],
         "y": [
          0.5306033614152779
         ]
        }
       ],
       "layout": {
        "margin": {
         "b": 0,
         "l": 0,
         "r": 0,
         "t": 0
        }
       }
      },
      "text/html": [
       "<div>\n",
       "        \n",
       "        \n",
       "            <div id=\"18481342-31be-45b7-aa3e-3a53b8c47e1b\" class=\"plotly-graph-div\"></div>\n",
       "            <script type=\"text/javascript\">\n",
       "                require([\"plotly\"], function(Plotly) {\n",
       "                    window.PLOTLYENV=window.PLOTLYENV || {};\n",
       "                    window.PLOTLYENV.BASE_URL='https://plot.ly';\n",
       "                    \n",
       "                if (document.getElementById(\"18481342-31be-45b7-aa3e-3a53b8c47e1b\")) {\n",
       "                    Plotly.newPlot(\n",
       "                        '18481342-31be-45b7-aa3e-3a53b8c47e1b',\n",
       "                        [{\"marker\": {\"line\": {\"color\": \"rgba(217, 217, 217, 0.14)\", \"width\": 0.5}, \"opacity\": 0.8, \"size\": 12}, \"mode\": \"markers\", \"name\": \"PL\", \"type\": \"scatter\", \"uid\": \"e8f30b97-04dd-449c-9e88-36f4358bf3fa\", \"x\": [-0.9707341294741233, 0.5809547562741019, -0.7603187789028415], \"y\": [0.42961762766339673, -1.50417863386869, 0.28384211680770555]}, {\"marker\": {\"line\": {\"color\": \"rgba(217, 217, 217, 0.14)\", \"width\": 0.5}, \"opacity\": 0.8, \"size\": 12}, \"mode\": \"markers\", \"name\": \"DE\", \"type\": \"scatter\", \"uid\": \"4d7927c9-4a4c-4c77-ac11-295a7b20c9d3\", \"x\": [1.7901624680380148, 1.4871102787087198], \"y\": [1.8766556521319913, 0.5631718887862899]}, {\"marker\": {\"line\": {\"color\": \"rgba(217, 217, 217, 0.14)\", \"width\": 0.5}, \"opacity\": 0.8, \"size\": 12}, \"mode\": \"markers\", \"name\": \"NO\", \"type\": \"scatter\", \"uid\": \"02795308-d8a7-433b-ac6c-f0a71dac2b74\", \"x\": [0.7571611723933706, -0.310320111724045], \"y\": [-1.720897222548132, 0.5936554608908705]}, {\"marker\": {\"line\": {\"color\": \"rgba(217, 217, 217, 0.14)\", \"width\": 0.5}, \"opacity\": 0.8, \"size\": 12}, \"mode\": \"markers\", \"name\": \"LT\", \"type\": \"scatter\", \"uid\": \"3f505cce-e214-40a2-b3cc-0407083964f2\", \"x\": [-0.24318187042005848], \"y\": [-0.4325194150093643]}, {\"marker\": {\"line\": {\"color\": \"rgba(217, 217, 217, 0.14)\", \"width\": 0.5}, \"opacity\": 0.8, \"size\": 12}, \"mode\": \"markers\", \"name\": \"RU\", \"type\": \"scatter\", \"uid\": \"00fe83f6-eb67-4307-9693-db93228f3c2d\", \"x\": [-1.2073709150028498], \"y\": [0.5155673498157081]}, {\"marker\": {\"line\": {\"color\": \"rgba(217, 217, 217, 0.14)\", \"width\": 0.5}, \"opacity\": 0.8, \"size\": 12}, \"mode\": \"markers\", \"name\": \"UA\", \"type\": \"scatter\", \"uid\": \"cc0fe7c4-a46b-41ed-a6bd-ff26fc2e7ad3\", \"x\": [-0.9285622248613937], \"y\": [0.235694331814881]}, {\"marker\": {\"line\": {\"color\": \"rgba(217, 217, 217, 0.14)\", \"width\": 0.5}, \"opacity\": 0.8, \"size\": 12}, \"mode\": \"markers\", \"name\": \"SE\", \"type\": \"scatter\", \"uid\": \"0872d189-2b3a-4b71-901b-eafa58bcd5d0\", \"x\": [-0.6711266402664618, 0.4762259952375732], \"y\": [0.058051712995629334, -0.8986608694802782]}, {\"marker\": {\"line\": {\"color\": \"rgb(0,0,0)\", \"width\": 1}, \"opacity\": 1, \"size\": 15}, \"mode\": \"markers\", \"name\": \"article\", \"type\": \"scatter\", \"uid\": \"4b9bb6dd-d0f9-42a2-8239-8f53dc9e936a\", \"x\": [-1.3111771813878916], \"y\": [0.5306033614152779]}],\n",
       "                        {\"margin\": {\"b\": 0, \"l\": 0, \"r\": 0, \"t\": 0}},\n",
       "                        {\"showLink\": false, \"linkText\": \"Export to plot.ly\", \"plotlyServerURL\": \"https://plot.ly\", \"responsive\": true}\n",
       "                    )\n",
       "                };\n",
       "                });\n",
       "            </script>\n",
       "        </div>"
      ]
     },
     "metadata": {},
     "output_type": "display_data"
    }
   ],
   "source": [
    "def plotR2_with_prediction(df,point, batch_size):\n",
    "\n",
    "    df_new=df.iloc[:,1:df.shape[1]-1]\n",
    "    \n",
    "    ipca = IncrementalPCA(2, batch_size)\n",
    "    ipca.fit(df_new)\n",
    "    \n",
    "\n",
    "    new_data =  pd.DataFrame(ipca.transform(df_new))\n",
    "    new_data['@C#ountry']=df['@C#ountry']\n",
    "        \n",
    "    countries=new_data[\"@C#ountry\"].unique()\n",
    "  \n",
    "    #Znajduje kierunki główne na podstawie tych samych przekształceń\n",
    "    #dla artykułu dla którego szukamy narodowości\n",
    "    prediction = pd.DataFrame(ipca.transform(pd.DataFrame(point).transpose()))\n",
    "\n",
    "    it = 0\n",
    "    x,y=[],[]\n",
    "    data= []\n",
    "    for i in countries:\n",
    "        country_data = new_data.loc[new_data[\"@C#ountry\"] == i]\n",
    "        x.append(country_data[0])\n",
    "        y.append(country_data[1])\n",
    "\n",
    "        trace = go.Scatter(\n",
    "            x=x[it],\n",
    "            y=y[it],\n",
    "            name = i,\n",
    "            mode='markers',\n",
    "            marker=dict(\n",
    "                size=12,\n",
    "                line=dict(\n",
    "                    color='rgba(217, 217, 217, 0.14)',\n",
    "                    width=0.5\n",
    "                ),\n",
    "                opacity=0.8\n",
    "            )\n",
    "        )\n",
    "\n",
    "        data.append(trace)\n",
    "        it+=1\n",
    "\n",
    "        \n",
    "    trace = go.Scatter(\n",
    "        x = prediction[0],\n",
    "        y = prediction[1],\n",
    "        name = \"article\",\n",
    "        mode='markers',\n",
    "        marker=dict(\n",
    "            size=15,\n",
    "            line=dict(\n",
    "            color='rgb(0,0,0)',\n",
    "            width=1\n",
    "            ),\n",
    "             opacity=1\n",
    "            )   \n",
    "    )\n",
    "    layout = go.Layout(\n",
    "        margin=dict(\n",
    "            l=0,\n",
    "            r=0,\n",
    "            b=0,\n",
    "            t=0\n",
    "        )\n",
    "    )\n",
    "    \n",
    "    data.append(trace)\n",
    "\n",
    "    fig = go.Figure(data=data, layout=layout)\n",
    "    iplot(fig, filename='simple-3d-scatter')\n",
    "    \n",
    "plotR2_with_prediction(df,[0]*9037,12)"
   ]
  }
 ],
 "metadata": {
  "kernelspec": {
   "display_name": "Python 3",
   "language": "python",
   "name": "python3"
  },
  "language_info": {
   "codemirror_mode": {
    "name": "ipython",
    "version": 3
   },
   "file_extension": ".py",
   "mimetype": "text/x-python",
   "name": "python",
   "nbconvert_exporter": "python",
   "pygments_lexer": "ipython3",
   "version": "3.6.7"
  }
 },
 "nbformat": 4,
 "nbformat_minor": 2
}
